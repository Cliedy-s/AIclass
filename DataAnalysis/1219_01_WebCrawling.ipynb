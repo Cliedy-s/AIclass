{
 "cells": [
  {
   "cell_type": "code",
   "execution_count": 1,
   "metadata": {},
   "outputs": [],
   "source": [
    "from bs4 import BeautifulSoup\n",
    "from selenium import webdriver\n",
    "from selenium.webdriver.support.ui import WebDriverWait\n",
    "from selenium.webdriver.support import expected_conditions as ec\n",
    "from selenium.webdriver.common.by import By\n",
    "import time\n",
    "import os\n",
    "import urllib.//*[@id=\"frmNIDLogin\"]/fieldset/input//*[@id=\"frmNIDLogin\"]/fieldset/input//*[@id=\"frmNIDLogin\"]/fieldset/inputrequest as req\n",
    "import xlsxwriter # 엑셀 저장"
   ]
  },
  {
   "cell_type": "code",
   "execution_count": 89,
   "metadata": {},
   "outputs": [],
   "source": [
    "browser= webdriver.Chrome('./chromedriver_win32/chromedriver.exe')\n",
    "browser.implicitly_wait(5)"
   ]
  },
  {
   "cell_type": "markdown",
   "metadata": {},
   "source": [
    "## 주유소"
   ]
  },
  {
   "cell_type": "code",
   "execution_count": 49,
   "metadata": {},
   "outputs": [],
   "source": [
    "# browser.set_window_size(1920, 1280)\n",
    "browser.get('http://www.opinet.co.kr/searRgSelect.do')"
   ]
  },
  {
   "cell_type": "code",
   "execution_count": 50,
   "metadata": {},
   "outputs": [],
   "source": [
    "browser.get('http://www.opinet.co.kr/user/main/mainView.do')\n",
    "time.sleep(2)\n",
    "browser.get('http://www.opinet.co.kr/searRgSelect.do')\n",
    "time.sleep(2)"
   ]
  },
  {
   "cell_type": "code",
   "execution_count": 52,
   "metadata": {},
   "outputs": [],
   "source": [
    "sido = browser.find_element_by_id('SIDO_NM0')\n",
    "sido.send_keys('서울')\n",
    "time.sleep(2)"
   ]
  },
  {
   "cell_type": "code",
   "execution_count": 53,
   "metadata": {},
   "outputs": [],
   "source": [
    "gu = browser.find_element_by_xpath('//*[@id=\"SIGUNGU_NM0\"]')\n",
    "gu_list = gu.find_elements_by_tag_name('option')"
   ]
  },
  {
   "cell_type": "code",
   "execution_count": 54,
   "metadata": {},
   "outputs": [],
   "source": [
    "gu_names = [option.get_attribute('value') for option in gu_list]\n",
    "gu_names.remove('')\n",
    "gu.send_keys(gu_names[7])"
   ]
  },
  {
   "cell_type": "markdown",
   "metadata": {},
   "source": [
    "### 클릭"
   ]
  },
  {
   "cell_type": "code",
   "execution_count": 56,
   "metadata": {},
   "outputs": [],
   "source": [
    "browser.find_element_by_xpath('//*[@id=\"searRgSelect\"]').click()"
   ]
  },
  {
   "cell_type": "code",
   "execution_count": 57,
   "metadata": {},
   "outputs": [],
   "source": [
    "WebDriverWait(browser, 3).until(ec.presence_of_element_located((By.XPATH, '//*[@id=\"glopopd_excel'))).click()"
   ]
  },
  {
   "cell_type": "markdown",
   "metadata": {},
   "source": [
    "## 네이버 로그인"
   ]
  },
  {
   "cell_type": "code",
   "execution_count": 92,
   "metadata": {
    "scrolled": true
   },
   "outputs": [],
   "source": [
    "# browser.set_window_size(1920, 1280)\n",
    "browser.get('https://nid.naver.com/nidlogin.login')\n",
    "#WebDriverWait(browser, 3).until(ec.presence_of_element_located((By.XPATH, '//*[@id=\"account\"]/div/a'))).click()\n",
    "\n",
    "\n",
    "# //*[@id=\"frmNIDLogin\"]/fieldset/input"
   ]
  },
  {
   "cell_type": "code",
   "execution_count": 95,
   "metadata": {},
   "outputs": [],
   "source": [
    "# id_input = browser.find_element_by_xpath('//*[@id=\"id\"]')\n",
    "# pw_input = browser.find_element_by_xpath('//*[@id=\"pw\"]')\n",
    "# id_input.send_keys('bhb0047')\n",
    "# pw_input.send_keys('naver1352!')\n",
    "\n",
    "id = 'bhb0047'\n",
    "pw = 'naver1352!'\n",
    "browser.execute_script(\"document.getElementsByName('id')[0].value=\\'\"+id+\"\\'\")\n",
    "browser.execute_script(\"document.getElementsByName('pw')[0].value=\\'\"+pw+\"\\'\")\n",
    "\n",
    "time.sleep(1)\n",
    "                    \n",
    "\n",
    "browser.find_element_by_xpath('//*[@id=\"frmNIDLogin\"]/fieldset/input').click()"
   ]
  },
  {
   "cell_type": "markdown",
   "metadata": {},
   "source": [
    "## 파이썬 exe화\n",
    "\n",
    ">pip install pyinstaller<br>\n",
    "pyinstaller --onefile filename.py"
   ]
  },
  {
   "cell_type": "code",
   "execution_count": null,
   "metadata": {},
   "outputs": [],
   "source": []
  }
 ],
 "metadata": {
  "kernelspec": {
   "display_name": "Python 3",
   "language": "python",
   "name": "python3"
  },
  "language_info": {
   "codemirror_mode": {
    "name": "ipython",
    "version": 3
   },
   "file_extension": ".py",
   "mimetype": "text/x-python",
   "name": "python",
   "nbconvert_exporter": "python",
   "pygments_lexer": "ipython3",
   "version": "3.7.4"
  }
 },
 "nbformat": 4,
 "nbformat_minor": 2
}
