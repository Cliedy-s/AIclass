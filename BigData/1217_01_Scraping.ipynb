{
 "cells": [
  {
   "cell_type": "markdown",
   "metadata": {},
   "source": [
    "<hr style=\"height:10px\">"
   ]
  },
  {
   "cell_type": "markdown",
   "metadata": {},
   "source": [
    "## 웹크로울링 :스크렙핑 반복 <-> 웹스크렙핑 "
   ]
  },
  {
   "cell_type": "markdown",
   "metadata": {},
   "source": [
    "# 웹스크렙핑1 : 기본"
   ]
  },
  {
   "cell_type": "markdown",
   "metadata": {},
   "source": [
    "## 사전작업"
   ]
  },
  {
   "cell_type": "code",
   "execution_count": 1,
   "metadata": {},
   "outputs": [],
   "source": [
    "import urllib.request as req"
   ]
  },
  {
   "cell_type": "markdown",
   "metadata": {},
   "source": [
    "### 이미지 (url -> download)"
   ]
  },
  {
   "cell_type": "code",
   "execution_count": 2,
   "metadata": {},
   "outputs": [
    {
     "name": "stdout",
     "output_type": "stream",
     "text": [
      "d:/test1.jpg \n",
      "\n",
      "\n",
      " Date: Wed, 18 Dec 2019 08:52:29 GMT\n",
      "Server: Apache\n",
      "P3P: CP=\"ALL CURa ADMa DEVa TAIa OUR BUS IND PHY ONL UNI PUR FIN COM NAV INT DEM CNT STA POL HEA PRE LOC OTC\"\n",
      "Accept-Ranges: bytes\n",
      "Last-Modified: Tue, 17 Dec 2019 00:57:22 GMT\n",
      "Content-Length: 48858\n",
      "Cache-Control: max-age=2592000\n",
      "Content-Type: image/jpeg\n",
      "Age: 114907\n",
      "Expires: Thu, 16 Jan 2020 00:57:22 GMT\n",
      "Connection: close\n",
      "\n",
      " 다운로드 성공!\n"
     ]
    }
   ],
   "source": [
    "img_url ='http://cafefiles.naver.net/20130213_215/cnclover_13607476765959Qg35_JPEG/%C0%BD%B8%F0%B8%A6_%B2%D9%B9%CE_%B0%ED%BE%E7%C0%CC.jpg'\n",
    "save_path = 'd:/test1.jpg'\n",
    "\n",
    "file, header = req.urlretrieve(img_url, save_path)# 이미지를 웹에서 검색해서 다운받음 (다운경로, 저장위치)\n",
    "print(file, '\\n\\n\\n', header, '다운로드 성공!')"
   ]
  },
  {
   "cell_type": "markdown",
   "metadata": {},
   "source": [
    "### html"
   ]
  },
  {
   "cell_type": "code",
   "execution_count": 3,
   "metadata": {},
   "outputs": [
    {
     "name": "stdout",
     "output_type": "stream",
     "text": [
      "d:/index.html \n",
      "\n",
      "\n",
      " Date: Wed, 18 Dec 2019 08:52:30 GMT\n",
      "Expires: -1\n",
      "Cache-Control: private, max-age=0\n",
      "Content-Type: text/html; charset=ISO-8859-1\n",
      "P3P: CP=\"This is not a P3P policy! See g.co/p3phelp for more info.\"\n",
      "Server: gws\n",
      "X-XSS-Protection: 0\n",
      "X-Frame-Options: SAMEORIGIN\n",
      "Set-Cookie: 1P_JAR=2019-12-18-08; expires=Fri, 17-Jan-2020 08:52:30 GMT; path=/; domain=.google.com\n",
      "Set-Cookie: NID=193=etZ6dCYWLluFsAnY-prn3PImAxTPGShsFmt64DiH29KyfA9JlLgsux-iL3tHEHNHpUFaxXxXOAljToDOE3L0RS1fowhPJv2W0sTBa-I9dDL969k998t2j9VJThuNrF51rvtIVEs1PU5myZgLOR55clxRlt49Vh5iwLhca3TZ7f0; expires=Thu, 18-Jun-2020 08:52:30 GMT; path=/; domain=.google.com; HttpOnly\n",
      "Accept-Ranges: none\n",
      "Vary: Accept-Encoding\n",
      "Connection: close\n",
      "\n",
      " 다운로드 성공!\n"
     ]
    }
   ],
   "source": [
    "html_url=\"http://google.com\"\n",
    "save_path = 'd:/index.html'\n",
    "\n",
    "file, header = req.urlretrieve(html_url, save_path)\n",
    "print(file, '\\n\\n\\n',header,'다운로드 성공!')"
   ]
  },
  {
   "cell_type": "markdown",
   "metadata": {},
   "source": [
    "### 오류처리"
   ]
  },
  {
   "cell_type": "code",
   "execution_count": 4,
   "metadata": {},
   "outputs": [
    {
     "name": "stdout",
     "output_type": "stream",
     "text": [
      "d:/index.html \n",
      "\n",
      "\n",
      " Date: Wed, 18 Dec 2019 08:52:30 GMT\n",
      "Expires: -1\n",
      "Cache-Control: private, max-age=0\n",
      "Content-Type: text/html; charset=ISO-8859-1\n",
      "P3P: CP=\"This is not a P3P policy! See g.co/p3phelp for more info.\"\n",
      "Server: gws\n",
      "X-XSS-Protection: 0\n",
      "X-Frame-Options: SAMEORIGIN\n",
      "Set-Cookie: 1P_JAR=2019-12-18-08; expires=Fri, 17-Jan-2020 08:52:30 GMT; path=/; domain=.google.com\n",
      "Set-Cookie: NID=193=ZYh1QgCGD_BeFDh-1zaIZu3ugtS3Lf_EzCkAkcGc8Wd6JFX8wcc3fr3PKvrcL2JmVo2YPZRZ4bLraTmdAYLA08UOPbeO4_x5DrgRByDa3inXczf9H5qRshI9cVfNEiYu0QgpRJK5Fikj4DnN9Lo80hcwViNFF1qdjIGMLtJf0qw; expires=Thu, 18-Jun-2020 08:52:30 GMT; path=/; domain=.google.com; HttpOnly\n",
      "Accept-Ranges: none\n",
      "Vary: Accept-Encoding\n",
      "Connection: close\n",
      "\n",
      " 다운로드 성공!\n"
     ]
    }
   ],
   "source": [
    "html_url=\"http://google.com\"\n",
    "save_path = 'd:/index.html'\n",
    "\n",
    "try:\n",
    "    file, header = req.urlretrieve(html_url, save_path)\n",
    "except Exception as err:\n",
    "    print('다운로드 실패!')\n",
    "    print(err)\n",
    "else :\n",
    "    print(file, '\\n\\n\\n', header,'다운로드 성공!')\n",
    "    "
   ]
  },
  {
   "cell_type": "markdown",
   "metadata": {},
   "source": [
    "<hr style=\"height:10px\">"
   ]
  },
  {
   "cell_type": "markdown",
   "metadata": {},
   "source": [
    "# 웹스크렙핑2 : 여러 링크"
   ]
  },
  {
   "cell_type": "markdown",
   "metadata": {},
   "source": [
    "## 사전작업"
   ]
  },
  {
   "cell_type": "code",
   "execution_count": 5,
   "metadata": {},
   "outputs": [],
   "source": [
    "# import urllib.request as req\n",
    "from urllib.error import URLError, HTTPError"
   ]
  },
  {
   "cell_type": "markdown",
   "metadata": {},
   "source": [
    "> URLError : 잘못된 주소를 요청한 경우 <br>\n",
    "  HTTPErorr : 서버가 접속이 안됨"
   ]
  },
  {
   "cell_type": "markdown",
   "metadata": {},
   "source": [
    "### 링크배열 => 여러 파일"
   ]
  },
  {
   "cell_type": "code",
   "execution_count": 6,
   "metadata": {},
   "outputs": [],
   "source": [
    "path_list =['d:/index.html','d:/test1.jpg']\n",
    "target_url = [\"http://google.com\", 'http://cafefiles.naver.net/20130213_215/cnclover_13607476765959Qg35_JPEG/%C0%BD%B8%F0%B8%A6_%B2%D9%B9%CE_%B0%ED%BE%E7%C0%CC.jpg']"
   ]
  },
  {
   "cell_type": "code",
   "execution_count": 7,
   "metadata": {},
   "outputs": [
    {
     "name": "stdout",
     "output_type": "stream",
     "text": [
      "다운로드 성공!\n"
     ]
    }
   ],
   "source": [
    "try:\n",
    "    for i, url in enumerate(target_url):\n",
    "        res = req.urlopen(url) \n",
    "        contents = res.read()\n",
    "        with open(path_list[i], 'wb') as f:\n",
    "            f.write(contents)\n",
    "except HTTPError as err:\n",
    "    print('HTTPError Code :', err.code)\n",
    "except URLError as err:\n",
    "    print('URLError Code :', err.reason)\n",
    "else :\n",
    "    print('다운로드 성공!')"
   ]
  },
  {
   "cell_type": "markdown",
   "metadata": {},
   "source": [
    "<hr style=\"height:10px\">"
   ]
  },
  {
   "cell_type": "markdown",
   "metadata": {},
   "source": [
    "# 웹스크렙핑3 : lxml모듈, lxml.cssselect, 네이버 메인의 신문사 url"
   ]
  },
  {
   "cell_type": "code",
   "execution_count": 8,
   "metadata": {},
   "outputs": [],
   "source": [
    "import requests\n",
    "import lxml.html\n",
    "import cssselect # pip install cssselect"
   ]
  },
  {
   "cell_type": "markdown",
   "metadata": {},
   "source": [
    "## Get Url, Attribute"
   ]
  },
  {
   "cell_type": "code",
   "execution_count": 9,
   "metadata": {},
   "outputs": [],
   "source": [
    "def scrap_news_list_page(response) :\n",
    "    urls =[]\n",
    "    root = lxml.html.fromstring(response.content)\n",
    "    for a in root.cssselect('.api_list .api_item a.api_link'): # id : #, class : ., api_list아래 .api_item아래\n",
    "        urls.append([a[0].get('alt'), a.get('href')])\n",
    "    return urls"
   ]
  },
  {
   "cell_type": "code",
   "execution_count": 10,
   "metadata": {},
   "outputs": [
    {
     "name": "stdout",
     "output_type": "stream",
     "text": [
      "\n",
      "일간스포츠 http://newsstand.naver.com/?list=ct1&pcode=241 \n",
      "스포츠조선 http://newsstand.naver.com/?list=ct1&pcode=076 \n",
      "헤럴드경제 http://newsstand.naver.com/?list=ct1&pcode=016 \n",
      "코리아헤럴드 http://newsstand.naver.com/?list=ct1&pcode=044 \n",
      "경향신문 http://newsstand.naver.com/?list=ct1&pcode=032 \n",
      "중앙일보 http://newsstand.naver.com/?list=ct1&pcode=025 \n",
      "MBC http://newsstand.naver.com/?list=ct1&pcode=214 \n",
      "블로터 http://newsstand.naver.com/?list=ct1&pcode=293 \n",
      "SBS http://newsstand.naver.com/?list=ct1&pcode=055 \n",
      "문화일보 http://newsstand.naver.com/?list=ct1&pcode=021 \n",
      "한국경제TV http://newsstand.naver.com/?list=ct1&pcode=215 \n",
      "미디어오늘 http://newsstand.naver.com/?list=ct1&pcode=006 \n",
      "인벤 http://newsstand.naver.com/?list=ct7&pcode=924 \n",
      "아시아투데이 http://newsstand.naver.com/?list=ct2&pcode=920 \n",
      "아주경제 http://newsstand.naver.com/?list=ct2&pcode=921 \n",
      "미디어펜 http://newsstand.naver.com/?list=ct2&pcode=809 \n",
      "M이코노미뉴스 http://newsstand.naver.com/?list=ct2&pcode=959 \n",
      "시사오늘 http://newsstand.naver.com/?list=ct2&pcode=816 "
     ]
    }
   ],
   "source": [
    "res = requests.get('https://www.naver.com')\n",
    "urls = scrap_news_list_page(res)\n",
    "\n",
    "for items in urls :\n",
    "    print()\n",
    "    for item in items :\n",
    "        print(item, end=' ')"
   ]
  },
  {
   "cell_type": "markdown",
   "metadata": {},
   "source": [
    "### 선생님"
   ]
  },
  {
   "cell_type": "code",
   "execution_count": 11,
   "metadata": {},
   "outputs": [],
   "source": [
    "def scrap_news_list_page_dic(response) :\n",
    "    urls ={}\n",
    "    root = lxml.html.fromstring(response.content)\n",
    "    for a in root.cssselect('.api_list .api_item a.api_link'): # id : #, class : ., api_list아래 .api_item아래\n",
    "        urls[a[0].get('alt')] = a.get('href')\n",
    "    return urls"
   ]
  },
  {
   "cell_type": "code",
   "execution_count": 12,
   "metadata": {
    "scrolled": false
   },
   "outputs": [
    {
     "name": "stdout",
     "output_type": "stream",
     "text": [
      "일간스포츠 http://newsstand.naver.com/?list=ct1&pcode=241\n",
      "스포츠조선 http://newsstand.naver.com/?list=ct1&pcode=076\n",
      "헤럴드경제 http://newsstand.naver.com/?list=ct1&pcode=016\n",
      "코리아헤럴드 http://newsstand.naver.com/?list=ct1&pcode=044\n",
      "경향신문 http://newsstand.naver.com/?list=ct1&pcode=032\n",
      "중앙일보 http://newsstand.naver.com/?list=ct1&pcode=025\n",
      "MBC http://newsstand.naver.com/?list=ct1&pcode=214\n",
      "블로터 http://newsstand.naver.com/?list=ct1&pcode=293\n",
      "SBS http://newsstand.naver.com/?list=ct1&pcode=055\n",
      "문화일보 http://newsstand.naver.com/?list=ct1&pcode=021\n",
      "한국경제TV http://newsstand.naver.com/?list=ct1&pcode=215\n",
      "미디어오늘 http://newsstand.naver.com/?list=ct1&pcode=006\n",
      "인벤 http://newsstand.naver.com/?list=ct7&pcode=924\n",
      "아시아투데이 http://newsstand.naver.com/?list=ct2&pcode=920\n",
      "아주경제 http://newsstand.naver.com/?list=ct2&pcode=921\n",
      "미디어펜 http://newsstand.naver.com/?list=ct2&pcode=809\n",
      "M이코노미뉴스 http://newsstand.naver.com/?list=ct2&pcode=959\n",
      "시사오늘 http://newsstand.naver.com/?list=ct2&pcode=816\n"
     ]
    }
   ],
   "source": [
    "res = requests.get('https://www.naver.com')\n",
    "urls = scrap_news_list_page_dic(res)\n",
    "\n",
    "for name, url in urls.items() :\n",
    "    print(name, url)"
   ]
  },
  {
   "cell_type": "markdown",
   "metadata": {},
   "source": [
    "<hr style=\"height:10px\">"
   ]
  },
  {
   "cell_type": "markdown",
   "metadata": {},
   "source": [
    "# 웹스크렙핑4 : lxml.xpath 이용, 네이버 메인의 신문사 url"
   ]
  },
  {
   "cell_type": "code",
   "execution_count": 13,
   "metadata": {},
   "outputs": [],
   "source": [
    "# /html/body/div[3]/div[3]/div[1]/div[2]/div[2]/div[2]/div/div/div/div/ul/li[4]\n",
    "# //*[@id=\"NS_081\"]\n",
    "\n",
    "def scrap_news_list_page_dic(response) :\n",
    "    urls ={}\n",
    "    root = lxml.html.fromstring(response.content)\n",
    "    for a in root.xpath('//ul[@class=\"api_list\"]/li[@class=\"api_item\"]/a[@class=\"api_link\"]'): # //태그[@class=\"클래스명\"]/태그[@class=\"클래스명\"] \n",
    "        urls[a[0].get('alt')] = a.get('href')\n",
    "    return urls"
   ]
  },
  {
   "cell_type": "code",
   "execution_count": 14,
   "metadata": {
    "scrolled": false
   },
   "outputs": [
    {
     "name": "stdout",
     "output_type": "stream",
     "text": [
      "일간스포츠 http://newsstand.naver.com/?list=ct1&pcode=241\n",
      "스포츠조선 http://newsstand.naver.com/?list=ct1&pcode=076\n",
      "헤럴드경제 http://newsstand.naver.com/?list=ct1&pcode=016\n",
      "코리아헤럴드 http://newsstand.naver.com/?list=ct1&pcode=044\n",
      "경향신문 http://newsstand.naver.com/?list=ct1&pcode=032\n",
      "중앙일보 http://newsstand.naver.com/?list=ct1&pcode=025\n",
      "MBC http://newsstand.naver.com/?list=ct1&pcode=214\n",
      "블로터 http://newsstand.naver.com/?list=ct1&pcode=293\n",
      "SBS http://newsstand.naver.com/?list=ct1&pcode=055\n",
      "문화일보 http://newsstand.naver.com/?list=ct1&pcode=021\n",
      "한국경제TV http://newsstand.naver.com/?list=ct1&pcode=215\n",
      "미디어오늘 http://newsstand.naver.com/?list=ct1&pcode=006\n",
      "인벤 http://newsstand.naver.com/?list=ct7&pcode=924\n",
      "아시아투데이 http://newsstand.naver.com/?list=ct2&pcode=920\n",
      "아주경제 http://newsstand.naver.com/?list=ct2&pcode=921\n",
      "미디어펜 http://newsstand.naver.com/?list=ct2&pcode=809\n",
      "M이코노미뉴스 http://newsstand.naver.com/?list=ct2&pcode=959\n",
      "시사오늘 http://newsstand.naver.com/?list=ct2&pcode=816\n"
     ]
    }
   ],
   "source": [
    "res = requests.get('https://www.naver.com')\n",
    "urls = scrap_news_list_page_dic(res)\n",
    "\n",
    "for name, url in urls.items() :\n",
    "    print(name, url)"
   ]
  },
  {
   "cell_type": "markdown",
   "metadata": {},
   "source": [
    "<hr style=\"height:10px\">"
   ]
  },
  {
   "cell_type": "markdown",
   "metadata": {},
   "source": [
    "# 웹스크렙핑5 : Get RSS"
   ]
  },
  {
   "cell_type": "code",
   "execution_count": 15,
   "metadata": {},
   "outputs": [],
   "source": [
    "import urllib.request\n",
    "import urllib.parse"
   ]
  },
  {
   "cell_type": "code",
   "execution_count": 16,
   "metadata": {},
   "outputs": [
    {
     "name": "stdout",
     "output_type": "stream",
     "text": [
      "<?xml version=\"1.0\" encoding=\"UTF-8\" ?>\n",
      "<rss version=\"2.0\"\n",
      "    xmlns:rdf=\"http://www.w3.org/1999/02/22-rdf-syntax-ns#\"\n",
      "    xmlns:dc=\"http://purl.org/dc/elements/1.1/\"\n",
      "    xmlns:taxo=\"http://purl.org/rss/1.0/modules/taxonomy/\"\n",
      "    xmlns:activity=\"http://activitystrea.ms/spec/1.0/\" >\n",
      "<channel>\n",
      "<title>알립니다</title>\n",
      "<link>https://www.mois.go.kr</link>\n",
      "<description></description>\n",
      "<language>ko</language>\n",
      "<pubDate>WED, 18 DEC 2019 13:37:30 KST</pubDate>\n",
      "    <item>\n",
      "            <title><![CDATA[2019 지방의회 우수사례 경진대회 개최 안내]]></title>\n",
      "            <link><![CDATA[https://www.mois.go.kr/frt/bbs/type013/commonSelectBoardArticle.do?bbsId=BBSMSTR_000000000006&nttId=74772]]></link>\n",
      "            <description><![CDATA[\n",
      "                2019 지방의회 우수사례 경진대회를 아래와 같이 개최할 계획입니다.<br />여러분의 많은 관심 부탁드립니다.<br /><br />ㅁ 개최일시 : 2019.12.19.(목) ~ 12.20.(금)<br />ㅁ 개최장소 : 한화리조트(해운대)<br />ㅁ 심사목록<br />  - 서울특별시의회, 서울특별시의회 책임성,청렴성 강화를 위한 자정노력<br />  - 경기도의회, 주민과의 약속, 도의원 매니페스토 달성을 위한 프로젝트<br />  - 충남도의회, 충청남도해양보호구역의 지정 및 관리에 관한 조례 <br />  - 전라북도의회, 농산업경제위원회 적극의정활동을 통한 전문성 제고로 지역경제 활성화<br />  - 전라남도의회 채소가격 안정을 위해 민관합동 국산김치 소비활동 운동전개<br />  - 부산진구의회, 개별공시지가 문제제기로 10억세수 증대<br />  - 광주광역시의회, 광주북구청 검도부 운영실태 조사를 위한 행정사무조사특별위원회 구성운영<br />  - 경기도평택시의회, 평택시 이웃분쟁 공공갈등 조정 및 관리 조례안<br />  - 경기도고양시의회, 의회의 투명성과 신뢰도 증진을 위한 제도적 기반 마련<br />  - 전남영광군의회, 영광군 천일염육성 지원에 관한 조례 일부개정, 영광군 천일염 경영안정 자원지금 조례<br /><br />※ 자세한 사항은 첨부파일을 참조하시기 바랍니다.\n",
      "                    ]]></description>\n",
      "            <pubDate>WED, 18 DEC 2019 13:37:30 KST</pubDate>\n",
      "            <author>선거의회과</author>\n",
      "        </item>\n",
      "    <item>\n",
      "            <title><![CDATA[행정안전부 일반임기제(건축, 방송통신분야) 공무원 채용 공고]]></title>\n",
      "            <link><![CDATA[https://www.mois.go.kr/frt/bbs/type013/commonSelectBoardArticle.do?bbsId=BBSMSTR_000000000006&nttId=74713]]></link>\n",
      "            <description><![CDATA[\n",
      "                행정안전부 공고 제2019-723호<br /><br />행정안전부에서는 아래와 같이 전문임기제 공무원을 채용하고자 하오니 <br /><br />유능한 인재의 많은 응모 바랍니다.<br /><br />1. 임용예정 등급 및 인원<br /><br />   ㅇ 시설7급 1명, 방송통신8급 1명<br /><br />2. 응시분야 및 응시자격 요건<br /><br />    ㅇ 응시분야 : 건축 및 방송통신문야<br />    ㅇ 응시자격 : 붙임 참조<br /><br /><br />3. 원서접수<br /><br />    ㅇ 접수기간 : 2019. 12. 23.(월) ~ 2019. 12. 26.(목)<br />    ㅇ 접수방법 : 등기우편(마감일 18:00까지 소인분에 한함) 및 방문접수<br /><br /><br />기타 자세한 사항은 붙임의 공고문을 참고하여 주시기 바랍니다.\n",
      "                    ]]></description>\n",
      "            <pubDate>MON, 16 DEC 2019 18:09:29 KST</pubDate>\n",
      "            <author>인사기획관</author>\n",
      "        </item>\n",
      "    <item>\n",
      "            <title><![CDATA[2019년 행정안전부 10대 뉴스 설문조사 이벤트 당첨자 발표]]></title>\n",
      "            <link><![CDATA[https://www.mois.go.kr/frt/bbs/type013/commonSelectBoardArticle.do?bbsId=BBSMSTR_000000000006&nttId=74681]]></link>\n",
      "            <description><![CDATA[\n",
      "                2019년 행정안전부 10대 뉴스 설문조사에 참여해주신 모든 분들께 감사드립니다.<br /><br />행운의 당첨자를 발표합니다!<br /><br />​<br />이름/휴대폰 번호 뒷자리<br /><br />​<br />김*준\t010-****-5958<br />성*미\t010-****-7678<br />이*원\t010-****-5867<br />이*우\t010-****-7948<br />임*나\t010-****-0226<br />채*연\t010-****-3832<br />정*재\t010-****-1690<br />이*\t010-****-0921<br />오*호\t010-****-0026<br />송*정\t010-****-6604<br />박*혜\t010-****-1358<br />김*민\t010-****-5617<br />도*현\t010-****-4542<br />맹*윤\t010-****-0463<br />강*연\t010-****-1440<br />고*빈\t010-****-7619<br />백*선\t010-****-8548<br />변*영\t010-****-9196<br />서*정\t010-****-3669<br />이*현\t010-****-1305<br />하*수\t010-****-1392<br />송*재\t010-****-7690<br />박*권\t010-****-7365<br />김*\t010-****-3894<br />유*란\t010-****-4380<br />정*현\t010-****-1131<br />최*윤\t010-****-2759<br />우*빈\t010-****-9121<br />최*호\t010-****-3051<br />강*구\t010-****-7392<br />이*희\t010-****-3607<br />정*기\t010-****-4239<br />하*수\t010-****-7882<br />지*별\t010-****-3230<br />이*나\t010-****-6160<br />윤*석\t010-****-9664<br />안*형\t010-****-0800<br />송*훈\t010-****-5403<br />노*석\t010-****-0230<br />류*혜\t010-****-9285<br />맹*영\t010-****-6848<br />서*이\t010-****-8059<br />강*경\t010-****-7352<br />송*진\t010-****-2925<br />강*호\t010-****-8639<br />김*경\t010-****-3550<br />백*석\t010-****-8825<br />이*민\t010-****-0795<br />정*영\t010-****-2129<br />지*영\t010-****-1757<br />채*진\t010-****-1077<br />하*영\t010-****-3074<br />박*자\t010-****-4846<br />천*성\t010-****-0886<br />송*현\t010-****-6500<br />윤*영\t010-****-1679<br />이*숙\t010-****-7363<br />이*규\t010-****-1220<br />박*미\t010-****-7217<br />유*대\t010-****-0157<br />최*균\t010-****-6182<br />하*연\t010-****-3246<br />추*경\t010-****-5263<br />장*덕\t010-****-1000<br />전*숙\t010-****-5020<br />이*재\t010-****-3111<br />임*은\t010-****-5487<br />최*화\t010-****-7892<br />이*희\t010-****-1978<br />표*규\t010-****-1845<br />탁*숙\t010-****-6085<br />김*협\t010-****-7539<br />강*대\t010-****-0564<br />이*경\t010-****-3803<br />장*문\t010-****-0130<br />최*호\t010-****-7739<br />방*현\t010-****-8220<br />박*효\t010-****-0460<br />심*열\t010-****-3108<br />장*구\t010-****-4418<br />이*순\t010-****-1284<br />최*숙\t010-****-4632<br />고*영\t010-****-1091<br />유*경\t010-****-1147<br />김*례\t010-****-2490<br />김*갑\t010-****-3146<br />추*환\t010-****-3949<br />이*덕\t010-****-3372<br />양*호\t010-****-9973<br />맹*주\t010-****-4117<br />박*출\t010-****-4720<br />구*진\t010-****-8971<br />조*자\t010-****-2425<br />신*선\t010-****-4668<br />김*해\t010-****-0480<br />이*윤\t010-****-6479<br />선*우\t010-****-3779<br />최*실\t010-****-1367<br />하*순\t010-****-8290<br />송*명\t010-****-3808<br />​<br /><br />당첨되신 분들께는 12월 16일(월)에 경품이 일괄 발송될 예정입니다. 감사합니다\n",
      "                    ]]></description>\n",
      "            <pubDate>MON, 16 DEC 2019 10:33:06 KST</pubDate>\n",
      "            <author>디지털소통팀</author>\n",
      "        </item>\n",
      "    <item>\n",
      "            <title><![CDATA[2019년 접경권 발전지원사업 유공 정부포상 후보자 공모]]></title>\n",
      "            <link><![CDATA[https://www.mois.go.kr/frt/bbs/type013/commonSelectBoardArticle.do?bbsId=BBSMSTR_000000000006&nttId=74671]]></link>\n",
      "            <description><![CDATA[\n",
      "                1. 포상명 : 2019년 접경권 발전지원사업 유공 정부포상 후보자 공모<br /><br />2. 추천대상<br />  - 개인 : 2017~2018년 접경권 발전지원사업에 기여한 유공자<br />  - 단체 : 2017~2018년 접경권 발전지원사업에 기여한 우수기관<br />   <br />3. 추천기한 : 2019.12.16.(월) ~ 12.26.(목)<br /><br />4. 추천방법 : 전자우편 제출(stmpksh@korea.kr)<br /><br />   * 문의사항 : 행정안전부 지역균형발전과(044-205-3514)<br /><br />5. 추천제한 : 정부포상업무지침에 따른 추천 제한사유 해당자 및 단체<br /><br />   * 기타 자세한 사항은 첨부파일을 참조하여 주시기 바랍니다.\n",
      "                    ]]></description>\n",
      "            <pubDate>MON, 16 DEC 2019 09:23:06 KST</pubDate>\n",
      "            <author>지역균형발전과</author>\n",
      "        </item>\n",
      "    <item>\n",
      "            <title><![CDATA[2020년 지역거점별 소통협력공간 조성 및 운영사업 공모]]></title>\n",
      "            <link><![CDATA[https://www.mois.go.kr/frt/bbs/type013/commonSelectBoardArticle.do?bbsId=BBSMSTR_000000000006&nttId=74670]]></link>\n",
      "            <description><![CDATA[\n",
      "                행정안전부 공고 제2019-713호<br /><br />「2020년도 지역거점별 소통협력공간 조성 및 운영」사업을 붙임과 같이 공모하오니,<br />사업 추진을 희망하는 지방자치단체에서는 신청하여 주시기 바랍니다.<br /><br /><br />2019년 12월 13일<br /><br />행정안전부 장관 진영\n",
      "                    ]]></description>\n",
      "            <pubDate>MON, 16 DEC 2019 09:22:52 KST</pubDate>\n",
      "            <author>지역사회혁신정책과</author>\n",
      "        </item>\n",
      "    <item>\n",
      "            <title><![CDATA[2020년도 기록물관리 전문요원시험 실시계획 공고]]></title>\n",
      "            <link><![CDATA[https://www.mois.go.kr/frt/bbs/type013/commonSelectBoardArticle.do?bbsId=BBSMSTR_000000000006&nttId=74657]]></link>\n",
      "            <description><![CDATA[\n",
      "                행정안전부 공고 제2019-709호<br /><br />2020년도 기록물관리 전문요원시험 실시계획 공고<br /><br /><br />2020년도 기록물관리 전문요원시험 실시계획을 다음과 같이 공고합니다.<br /><br /> □ 시험개요<br />  ○ 접수기간 : 2020. 3. 9. (월) 9:00 ~ 3. 11. (수) 18:00 <br />  ○ 시험일자 : 2020. 4. 18. (토) 10:00 ~ 13:20 (200분)<br />  ○ 합격자발표 : 2020. 5. 8. (금) 예정<br /><br />※ 일시·장소 및 응시자 준수사항은 국가기록원 홈페이지(www.archives.go.kr)에 공고되며, 상기 일정은 응시인원, 시험장 사정, 서류 검증 소요기간 등에 따라 변경될 수 있습니다.<br /><br /><br />2019년 12월 13일<br />행정안전부장관<br /><br />※ 자세한 내용은 첨부파일을 참고해주십시오.\n",
      "                    ]]></description>\n",
      "            <pubDate>FRI, 13 DEC 2019 09:46:17 KST</pubDate>\n",
      "            <author>정책기획과</author>\n",
      "        </item>\n",
      "    <item>\n",
      "            <title><![CDATA[2020년 정부혁신1번가 유지관리 기술평가 결과 게시]]></title>\n",
      "            <link><![CDATA[https://www.mois.go.kr/frt/bbs/type013/commonSelectBoardArticle.do?bbsId=BBSMSTR_000000000006&nttId=74653]]></link>\n",
      "            <description><![CDATA[\n",
      "                2020년 정부혁신1번가 유지관리 용역 사업의 제안서 기술평가 결과를 첨부와 같이 게시합니다.\n",
      "                    ]]></description>\n",
      "            <pubDate>THU, 12 DEC 2019 17:59:36 KST</pubDate>\n",
      "            <author>혁신기획과</author>\n",
      "        </item>\n",
      "    </channel>\n",
      "</rss>\n",
      "\n",
      "\n",
      "<?xml version=\"1.0\" encoding=\"UTF-8\" ?>\n",
      "<rss version=\"2.0\"\n",
      "    xmlns:rdf=\"http://www.w3.org/1999/02/22-rdf-syntax-ns#\"\n",
      "    xmlns:dc=\"http://purl.org/dc/elements/1.1/\"\n",
      "    xmlns:taxo=\"http://purl.org/rss/1.0/modules/taxonomy/\"\n",
      "    xmlns:activity=\"http://activitystrea.ms/spec/1.0/\" >\n",
      "<channel>\n",
      "<title>보도자료</title>\n",
      "<link>https://www.mois.go.kr</link>\n",
      "<description></description>\n",
      "<language>ko</language>\n",
      "<pubDate>WED, 18 DEC 2019 15:30:00 KST</pubDate>\n",
      "    <item>\n",
      "            <title><![CDATA[정부 정책 리모델링, 국민과 함께 만들고 바꾸다!]]></title>\n",
      "            <link><![CDATA[https://www.mois.go.kr/frt/bbs/type010/commonSelectBoardArticle.do?bbsId=BBSMSTR_000000000008&nttId=74799]]></link>\n",
      "            <description><![CDATA[\n",
      "                국민권익위원회(위원장 박은정)와 행정안전부(장관 진영)는 12.18.(수) 15:30, 서울시 중구 스페이스 라온에서 수상자와 관계자들이 모인 가운데 ‘제4회 국민생각함 활용 우수사례 공모전 시상식’을 공동으로 개최하였습니다.<br /><br />자세한 내용은 첨부를 확인하시기 바랍니다. <br /><br />* 담당 : 국민참여혁신과 김영근(044-205-2427)\n",
      "                    ]]></description>\n",
      "            <pubDate>WED, 18 DEC 2019 15:30:00 KST</pubDate>\n",
      "            <author>국민참여혁신과</author>\n",
      "        </item>\n",
      "    <item>\n",
      "            <title><![CDATA[편리한 전자증명서 서비스. 국민이 뽑은 행안부 뉴스 1위 선정]]></title>\n",
      "            <link><![CDATA[https://www.mois.go.kr/frt/bbs/type010/commonSelectBoardArticle.do?bbsId=BBSMSTR_000000000008&nttId=74798]]></link>\n",
      "            <description><![CDATA[\n",
      "                국민들은 올 한 해 가장 공감하고 기억하는 행정안전부 뉴스로 ‘편리한 전자증명 서비스(디지털 정부혁신)’을 꼽은 것으로 나타났습니다.<br /><br />자세한 내용은 첨부를 확인하시기 바랍니다. <br /><br />* 담당 : 디지털소통팀 김유라(02-2100-3083)\n",
      "                    ]]></description>\n",
      "            <pubDate>WED, 18 DEC 2019 12:00:00 KST</pubDate>\n",
      "            <author>디지털소통팀</author>\n",
      "        </item>\n",
      "    <item>\n",
      "            <title><![CDATA[지방살림 씀씀이, 주민의 눈으로 감시한다]]></title>\n",
      "            <link><![CDATA[https://www.mois.go.kr/frt/bbs/type010/commonSelectBoardArticle.do?bbsId=BBSMSTR_000000000008&nttId=74797]]></link>\n",
      "            <description><![CDATA[\n",
      "                주민과 전문가가 직접 참여해 자치단체의 예산집행을 감시하는 ‘예산바로쓰기 국민감시단’이 공식 출범합니다.<br /><br />자세한 내용은 첨부를 확인하시기 바랍니다. <br /><br />* 담당 : 재정정책과 정광근(044-205-3702)\n",
      "                    ]]></description>\n",
      "            <pubDate>WED, 18 DEC 2019 12:00:00 KST</pubDate>\n",
      "            <author>재정정책과</author>\n",
      "        </item>\n",
      "    <item>\n",
      "            <title><![CDATA[행안부, 내년도 지역주도형 청년일자리 2만6천개 창출]]></title>\n",
      "            <link><![CDATA[https://www.mois.go.kr/frt/bbs/type010/commonSelectBoardArticle.do?bbsId=BBSMSTR_000000000008&nttId=74796]]></link>\n",
      "            <description><![CDATA[\n",
      "                행정안전부(장관 진영)가 내년도 지역주도형 청년일자리 사업에 2,350억원을 투입해 2만6천여명의 청년일자리를 창출합니다.<br /> <br />자세한 내용은 첨부를 확인하시기 바랍니다. <br /><br />* 담당 : 지역일자리경제과 김영환(044-205-3912)\n",
      "                    ]]></description>\n",
      "            <pubDate>WED, 18 DEC 2019 12:00:00 KST</pubDate>\n",
      "            <author>지역일자리경제과</author>\n",
      "        </item>\n",
      "    <item>\n",
      "            <title><![CDATA[환경부·장애인고용공단·수도권매립공사.. 최우수 협업사례 선정]]></title>\n",
      "            <link><![CDATA[https://www.mois.go.kr/frt/bbs/type010/commonSelectBoardArticle.do?bbsId=BBSMSTR_000000000008&nttId=74795]]></link>\n",
      "            <description><![CDATA[\n",
      "                행정안전부(장관 진영)는 19일 정부세종청사에서 중앙행정기관 혁신기획관과 지자체, 공공기관의 혁신업무담당자 등 200여명이 참석한 가운데 ‘행정기관 협업지원관 회의’를 개최합니다.<br /><br />자세한 내용은 첨부를 확인하시기 바랍니다. <br /><br />* 담당 : 협업정책과 박태성(044-205-2242)\n",
      "                    ]]></description>\n",
      "            <pubDate>WED, 18 DEC 2019 12:00:00 KST</pubDate>\n",
      "            <author>협업정책과</author>\n",
      "        </item>\n",
      "    <item>\n",
      "            <title><![CDATA[4차 산업혁명 시대에 필요한 정부혁신 전략을 모색하다]]></title>\n",
      "            <link><![CDATA[https://www.mois.go.kr/frt/bbs/type010/commonSelectBoardArticle.do?bbsId=BBSMSTR_000000000008&nttId=74794]]></link>\n",
      "            <description><![CDATA[\n",
      "                행정안전부(장관 진영)는 12월 18일, 수요일 오후 2시 별관 대강당에서 본부 및 소속기관 혁신업무 담당자 등 직원 100여 명이 참여하는 ‘혁신의 오후(오늘 그리고 이후)’ 행사를 개최합니다.<br /><br />자세한 내용은 첨부를 확인하시기 바랍니다. <br /><br />* 담당 : 혁신행정담당관 박지인(044-205-1471)\n",
      "                    ]]></description>\n",
      "            <pubDate>WED, 18 DEC 2019 08:00:00 KST</pubDate>\n",
      "            <author>혁신행정담당관</author>\n",
      "        </item>\n",
      "    <item>\n",
      "            <title><![CDATA[주한외교사절, 한국의 디지털혁신 배우러 한자리에 모여]]></title>\n",
      "            <link><![CDATA[https://www.mois.go.kr/frt/bbs/type010/commonSelectBoardArticle.do?bbsId=BBSMSTR_000000000008&nttId=74793]]></link>\n",
      "            <description><![CDATA[\n",
      "                행정안전부(장관 진영)는 18일 서울 그랜드 하얏트 호텔에서 한국에 주재하는 외교사절을 대상으로 한국의 전자정부를 소개하는 ‘주한 외교사절 대상 전자정부 설명회(Korean Digital Government Session for Diplomatic Missions)’를 개최합니다. <br /><br />자세한 내용은 첨부를 확인하시기 바랍니다. <br /><br />* 담당 : 글로벌전자정부과 박원재(044-205-2786)\n",
      "                    ]]></description>\n",
      "            <pubDate>WED, 18 DEC 2019 08:00:00 KST</pubDate>\n",
      "            <author>글로벌전자정부과</author>\n",
      "        </item>\n",
      "    <item>\n",
      "            <title><![CDATA[알뜰살뜰 지방재정, 올해 최고의 아이디어를 소개합니다!]]></title>\n",
      "            <link><![CDATA[https://www.mois.go.kr/frt/bbs/type010/commonSelectBoardArticle.do?bbsId=BBSMSTR_000000000008&nttId=74792]]></link>\n",
      "            <description><![CDATA[\n",
      "                행정안전부(장관 진영)는 지방자치단체가 현장에서 얻은 아이디어로 지방재정을 적극적이고 효율적으로 운용한 우수사례를 발굴하고, 그 성과를 공유·확산하기 위해 「2019년도 지방재정세제 우수사례 발표대회」를 개최했습니다.<br /><br />자세한 내용은 첨부를 확인하시기 바랍니다. <br /><br />* 담당 : 재정정책과 장강혁(044-205-3710)\n",
      "                    ]]></description>\n",
      "            <pubDate>TUE, 17 DEC 2019 18:00:00 KST</pubDate>\n",
      "            <author>재정정책과</author>\n",
      "        </item>\n",
      "    <item>\n",
      "            <title><![CDATA[진영 장관, 성탄절을 맞아 청주시 소외계층 위문]]></title>\n",
      "            <link><![CDATA[https://www.mois.go.kr/frt/bbs/type010/commonSelectBoardArticle.do?bbsId=BBSMSTR_000000000008&nttId=74735]]></link>\n",
      "            <description><![CDATA[\n",
      "                진영 행정안전부 장관은 성탄절을 앞둔 17일 오후 청주지역 복지시설인 ‘충북연탄은행(청주시 상당구 소재)’과 ‘충북육아원(청주시 서원구 소재)’을 방문하고 관계자들을 격려했습니다.<br /><br />자세한 내용은 첨부를 확인하시기 바랍니다. <br /><br />* 담당 : 운영지원과 임종필(044-205-1258)\n",
      "                    ]]></description>\n",
      "            <pubDate>TUE, 17 DEC 2019 15:30:00 KST</pubDate>\n",
      "            <author>운영지원과</author>\n",
      "        </item>\n",
      "    <item>\n",
      "            <title><![CDATA[2030년 수년 째 가뭄으로 인한 복합재난이 발생한다면...]]></title>\n",
      "            <link><![CDATA[https://www.mois.go.kr/frt/bbs/type010/commonSelectBoardArticle.do?bbsId=BBSMSTR_000000000008&nttId=74733]]></link>\n",
      "            <description><![CDATA[\n",
      "                2030년 수년 간 이어진 가뭄으로 인한 기근과 범죄, 대형 산불 등의 재난이 연쇄적으로 일어나는 복합재난 발생과정을 실감나게 표현한 심희수 씨의 ‘굶주린 대지’가 행정안전부가 실시한 미래복합재난 시나리오 공모전에서 대상(일반 부문)을 수상했습니다. <br /><br />자세한 내용은 첨부를 확인하시기 바랍니다. <br /><br />* 담당 : 재난안전연구개발과 진경혁(044-205-6231)\n",
      "                    ]]></description>\n",
      "            <pubDate>TUE, 17 DEC 2019 15:00:00 KST</pubDate>\n",
      "            <author>재난안전연구개발과</author>\n",
      "        </item>\n",
      "    <item>\n",
      "            <title><![CDATA[주민등록등초본이 내 스마트폰으로. 언제 어디서나 발급‧제출한다]]></title>\n",
      "            <link><![CDATA[https://www.mois.go.kr/frt/bbs/type010/commonSelectBoardArticle.do?bbsId=BBSMSTR_000000000008&nttId=74732]]></link>\n",
      "            <description><![CDATA[\n",
      "                행정안전부(장관 진영)는 오는 18일부터 주민등록등초본을 대상으로 전자증명서 발급·제출 서비스를 시행한다고 17일 밝혔습니다. <br /><br />자세한 내용은 첨부를 확인하시기 바랍니다. <br /><br />* 담당 : 행정정보공유과 이성은(044-205-2469), 주민과 김진욱(044-205-3155)\n",
      "                    ]]></description>\n",
      "            <pubDate>TUE, 17 DEC 2019 15:00:00 KST</pubDate>\n",
      "            <author>행정정보공유과</author>\n",
      "        </item>\n",
      "    <item>\n",
      "            <title><![CDATA[45년만에 주민등록번호 부여체계 바꾼다]]></title>\n",
      "            <link><![CDATA[https://www.mois.go.kr/frt/bbs/type010/commonSelectBoardArticle.do?bbsId=BBSMSTR_000000000008&nttId=74731]]></link>\n",
      "            <description><![CDATA[\n",
      "                행정안전부(장관 진영)는 내년 10월부터 주민등록번호 뒷자리에 지역번호를 없애고 임의번호를 부여하는 방식으로 주민등록번호 부여체계를 개편한다고 발표했습니다.<br /><br />자세한 내용은 첨부를 확인하시기 바랍니다. <br /><br />* 담당 : 주민과 류정일(044-205-3156)\n",
      "                    ]]></description>\n",
      "            <pubDate>TUE, 17 DEC 2019 15:00:00 KST</pubDate>\n",
      "            <author>주민과</author>\n",
      "        </item>\n",
      "    <item>\n",
      "            <title><![CDATA[이웃의 생명과 안전 지켜낸 참 안전인 14명 선정]]></title>\n",
      "            <link><![CDATA[https://www.mois.go.kr/frt/bbs/type010/commonSelectBoardArticle.do?bbsId=BBSMSTR_000000000008&nttId=74730]]></link>\n",
      "            <description><![CDATA[\n",
      "                행정안전부(장관 진영)는 전국재해구호협회(회장 송필호)와 함께 18일 서울 마포 소재 전국재해구호협회 희망브릿지홀에서 ‘참 안전인’ 시상식을 열고 올해 참 안전인으로 선정된 14명을 시상합니다.<br /><br />자세한 내용은 첨부를 확인하시기 바랍니다. <br /><br />* 담당 : 안전문화교육과 이슬기(044-205-4273)\n",
      "                    ]]></description>\n",
      "            <pubDate>TUE, 17 DEC 2019 12:00:00 KST</pubDate>\n",
      "            <author>안전문화교육과</author>\n",
      "        </item>\n",
      "    <item>\n",
      "            <title><![CDATA[언제 일어날지 모르는 재난... 우리 동네는 내가 지킨다]]></title>\n",
      "            <link><![CDATA[https://www.mois.go.kr/frt/bbs/type010/commonSelectBoardArticle.do?bbsId=BBSMSTR_000000000008&nttId=74729]]></link>\n",
      "            <description><![CDATA[\n",
      "                행정안전부(장관 진영)는 전국 지역자율방재단 역량강화를 위해 17~ 18일 양일 간 ‘전국 지역자율방재단 역량강화 워크숍’을 개최합니다.<br /><br />자세한 내용은 첨부를 확인하시기 바랍니다. <br /><br />* 담당 : 재난대응정책과 강진모(044-205-5222)\n",
      "                    ]]></description>\n",
      "            <pubDate>TUE, 17 DEC 2019 09:00:00 KST</pubDate>\n",
      "            <author>재난대응정책과</author>\n",
      "        </item>\n",
      "    <item>\n",
      "            <title><![CDATA[전라남도 등 12곳, 상생‧협력의 노사문화를 안착시키다]]></title>\n",
      "            <link><![CDATA[https://www.mois.go.kr/frt/bbs/type010/commonSelectBoardArticle.do?bbsId=BBSMSTR_000000000008&nttId=74728]]></link>\n",
      "            <description><![CDATA[\n",
      "                올 한해 공무원 건전 노사관계를 위해 노력한 기관 및 관계자들이 한자리에 모여, 우수사례를 공유하고 시상하는 자리가 열립니다.<br /><br />자세한 내용은 첨부를 확인하시기 바랍니다. <br /><br />* 담당 : 공무원단체과 선승규(044-205-3285)\n",
      "                    ]]></description>\n",
      "            <pubDate>TUE, 17 DEC 2019 09:00:00 KST</pubDate>\n",
      "            <author>공무원단체과</author>\n",
      "        </item>\n",
      "    <item>\n",
      "            <title><![CDATA[정부, 불합리한 안전규제 정비한다.]]></title>\n",
      "            <link><![CDATA[https://www.mois.go.kr/frt/bbs/type010/commonSelectBoardArticle.do?bbsId=BBSMSTR_000000000008&nttId=74682]]></link>\n",
      "            <description><![CDATA[\n",
      "                행정안전부(장관 진영)는 12월 16일 정부세종2청사에서 22개 부처와 17개 시‧도(영상)가 참석한 가운데 제39차 안전정책조정위원회(위원장 행정안전부 장관)를 개최했습니다.<br /><br />자세한 내용은 첨부를 확인하시기 바랍니다. <br /><br />* 담당 : 안전기획과 전경수(044-205-4111)\n",
      "                    ]]></description>\n",
      "            <pubDate>MON, 16 DEC 2019 15:00:00 KST</pubDate>\n",
      "            <author>안전기획과</author>\n",
      "        </item>\n",
      "    <item>\n",
      "            <title><![CDATA[행안부, 2020년 재난관리평가 예방 정책 비중 높인다]]></title>\n",
      "            <link><![CDATA[https://www.mois.go.kr/frt/bbs/type010/commonSelectBoardArticle.do?bbsId=BBSMSTR_000000000008&nttId=74680]]></link>\n",
      "            <description><![CDATA[\n",
      "                행정안전부(장관 진영)는 17일 오송(H호텔 세종시티 그랜드볼룸)에서 ‘재난관리평가단 합동 워크숍’을 열고 2020년 재난관리평가 작업에 착수한다고 밝혔습니다.<br /><br />자세한 내용은 첨부를 확인하시기 바랍니다. <br /><br />* 담당 : 재난관리정책과 최영수(044-205-5121)\n",
      "                    ]]></description>\n",
      "            <pubDate>MON, 16 DEC 2019 12:00:00 KST</pubDate>\n",
      "            <author>재난관리정책과</author>\n",
      "        </item>\n",
      "    <item>\n",
      "            <title><![CDATA[행안부, 전국 801개 청소년수련시설 안전실태 전수 조사 실시]]></title>\n",
      "            <link><![CDATA[https://www.mois.go.kr/frt/bbs/type010/commonSelectBoardArticle.do?bbsId=BBSMSTR_000000000008&nttId=74678]]></link>\n",
      "            <description><![CDATA[\n",
      "                행정안전부(장관 진영)와 여성가족부(장관 이정옥)가 겨울방학을 맞아 청소년 체험활동이 활발할 것으로 예상되는 전국 801개 청소년수련시설에 대한 합동 안전관리실태 감찰을 내일(18일)부터 내년 2월까지 실시합니다.<br /><br />자세한 내용은 첨부를 확인하시기 바랍니다. <br /><br />* 담당 : 안전감찰담당관 박양수(044-205-1365)\n",
      "                    ]]></description>\n",
      "            <pubDate>MON, 16 DEC 2019 12:00:00 KST</pubDate>\n",
      "            <author>안전감찰담당관</author>\n",
      "        </item>\n",
      "    <item>\n",
      "            <title><![CDATA[국민이 편리한 온라인 공공자원 공유 플랫폼 내년 2월부터 운영]]></title>\n",
      "            <link><![CDATA[https://www.mois.go.kr/frt/bbs/type010/commonSelectBoardArticle.do?bbsId=BBSMSTR_000000000008&nttId=74677]]></link>\n",
      "            <description><![CDATA[\n",
      "                내년 2월이면 회의실, 강의실, 공공주차장, 체육시설, 연구장비 등 전국의 공공자원을 온라인으로 예약·결제하고 이용할 수 있게 됩니다.<br /><br />자세한 내용은 첨부를 확인하시기 바랍니다. <br /><br />* 담당 : 공공서비스혁신과 김성순(044-205-2410)\n",
      "                    ]]></description>\n",
      "            <pubDate>MON, 16 DEC 2019 12:00:00 KST</pubDate>\n",
      "            <author>공공서비스혁신과</author>\n",
      "        </item>\n",
      "    <item>\n",
      "            <title><![CDATA[행안부,‘지역혁신 우수사례 공유 확산 포럼’개최]]></title>\n",
      "            <link><![CDATA[https://www.mois.go.kr/frt/bbs/type010/commonSelectBoardArticle.do?bbsId=BBSMSTR_000000000008&nttId=74676]]></link>\n",
      "            <description><![CDATA[\n",
      "                행정안전부(장관 진영)는 올 한해동안 추진했던 지역혁신 사업을 마무리하고, 2020년 지역혁신의 주요 사업별 발전 방향을 모색하는 '2019 지역혁신 우수사례 공유 확산 포럼'을 12.16.(월)~17.(화)까지 1박 2일간 개최합니다.<br /><br />자세한 내용은 첨부를 확인하시기 바랍니다. <br /><br />* 담당 : 지역사회혁신정책과 정주현(044-205-3405)\n",
      "                    ]]></description>\n",
      "            <pubDate>MON, 16 DEC 2019 09:00:00 KST</pubDate>\n",
      "            <author>지역사회혁신정책과</author>\n",
      "        </item>\n",
      "    <item>\n",
      "            <title><![CDATA[병원에서도 치료 목적으로 온천수 사용 가능. 의료관광 활성화 전망]]></title>\n",
      "            <link><![CDATA[https://www.mois.go.kr/frt/bbs/type010/commonSelectBoardArticle.do?bbsId=BBSMSTR_000000000008&nttId=74675]]></link>\n",
      "            <description><![CDATA[\n",
      "                온천수를 목욕장업, 숙박업 이외에 치료목적으로도 사용 가능하게 되어 의료관광 등 온천산업이 더욱 활성화될 전망이다.<br /><br />자세한 내용은 첨부를 확인하시기 바랍니다. <br /><br />* 담당 : 지역균형발전과 임군묵(044-205-3522)\n",
      "                    ]]></description>\n",
      "            <pubDate>MON, 16 DEC 2019 09:00:00 KST</pubDate>\n",
      "            <author>지역균형발전과</author>\n",
      "        </item>\n",
      "    <item>\n",
      "            <title><![CDATA[행안부 주요 정책 조언해 줄 전문가 111명... 자문위원으로 활동]]></title>\n",
      "            <link><![CDATA[https://www.mois.go.kr/frt/bbs/type010/commonSelectBoardArticle.do?bbsId=BBSMSTR_000000000008&nttId=74665]]></link>\n",
      "            <description><![CDATA[\n",
      "                행정안전부(장관 진영)는 16일 오전 11시 세종컨벤션센터에서 이종수 연세대학교 교수를 위원장으로 한 111명의 정책자문위원회 위원을 위촉합니다. <br /><br />자세한 내용은 첨부를 확인하시기 바랍니다. <br /><br />* 담당 : 정책평가담당관 채희선(044-205-1441)\n",
      "                    ]]></description>\n",
      "            <pubDate>SUN, 15 DEC 2019 12:00:00 KST</pubDate>\n",
      "            <author>정책평가담당관</author>\n",
      "        </item>\n",
      "    <item>\n",
      "            <title><![CDATA[행안부 안전한-TV, 농아인이 직접 통역한 안전교육 영상 제작]]></title>\n",
      "            <link><![CDATA[https://www.mois.go.kr/frt/bbs/type010/commonSelectBoardArticle.do?bbsId=BBSMSTR_000000000008&nttId=74664]]></link>\n",
      "            <description><![CDATA[\n",
      "                농아인(청각 장애인과 언어장애인)이 직접 수어로 통역한 안전 영상이 보급돼 농아인들의 안전정보 습득이 한층 쉬워질 전망입니다. <br /><br />자세한 내용은 첨부를 확인하시기 바랍니다. <br /><br />* 담당 : 안전소통담당관 김승민(044-205-1073)\n",
      "                    ]]></description>\n",
      "            <pubDate>SUN, 15 DEC 2019 12:00:00 KST</pubDate>\n",
      "            <author>안전소통담당관</author>\n",
      "        </item>\n",
      "    <item>\n",
      "            <title><![CDATA[12월은 자동차세 납부의 달. 위택스, 은행앱으로 편하게 내세요]]></title>\n",
      "            <link><![CDATA[https://www.mois.go.kr/frt/bbs/type010/commonSelectBoardArticle.do?bbsId=BBSMSTR_000000000008&nttId=74663]]></link>\n",
      "            <description><![CDATA[\n",
      "                2019년도 제2기분 자동차세가 부과돼 12월 31일 까지 납부해야 합니다.<br /><br />자세한 내용은 첨부를 확인하시기 바랍니다. <br /><br />* 담당 : 부동산세제과 박현정(044-205-3834)\n",
      "                    ]]></description>\n",
      "            <pubDate>SUN, 15 DEC 2019 12:00:00 KST</pubDate>\n",
      "            <author>부동산세제과</author>\n",
      "        </item>\n",
      "    <item>\n",
      "            <title><![CDATA[스마트폰으로 마을 총회 열고, 사물인터넷으로 독거노인 돌보고..]]></title>\n",
      "            <link><![CDATA[https://www.mois.go.kr/frt/bbs/type010/commonSelectBoardArticle.do?bbsId=BBSMSTR_000000000008&nttId=74662]]></link>\n",
      "            <description><![CDATA[\n",
      "                스마트폰으로 마을 총회를 열어 지역문제를 해결하는 ‘마을e척척’, 사물인터넷을 통해 고령 노인들을 돌보는 ‘ICT기반 1004섬 생활밀착 돌봄시스템’ 등 6개 사업이 올해 디지털 사회혁신 활성화 우수사례에 선정돼 행정안전부 장관상을 받습니다.<br /><br />자세한 내용은 첨부를 확인하시기 바랍니다. <br /><br />* 담당 : 주민참여협업과 이성은(044-205-3449)\n",
      "                    ]]></description>\n",
      "            <pubDate>SUN, 15 DEC 2019 12:00:00 KST</pubDate>\n",
      "            <author>주민참여협업과</author>\n",
      "        </item>\n",
      "    <item>\n",
      "            <title><![CDATA[모임에 갈 때에는 항상 비상구를 먼저 확인하세요]]></title>\n",
      "            <link><![CDATA[https://www.mois.go.kr/frt/bbs/type010/commonSelectBoardArticle.do?bbsId=BBSMSTR_000000000008&nttId=74643]]></link>\n",
      "            <description><![CDATA[\n",
      "                행정안전부(장관 진영)는 송년회가 많은 연말, 모임 장소에 갈 때는  위급 상황 발생 시 신속히 대피할 수 있도록 비상구 위치를 먼저 알아 둘 것을 요청했습니다.<br /><br />자세한 내용은 첨부를 확인하시기 바랍니다. <br /><br />* 담당 : 예방안전과 오영남(044-205-4521)\n",
      "                    ]]></description>\n",
      "            <pubDate>THU, 12 DEC 2019 12:00:00 KST</pubDate>\n",
      "            <author>예방안전과</author>\n",
      "        </item>\n",
      "    <item>\n",
      "            <title><![CDATA[빅데이터가 만드는 똑똑한 행정, 국민의 삶‘확’바꾼다]]></title>\n",
      "            <link><![CDATA[https://www.mois.go.kr/frt/bbs/type010/commonSelectBoardArticle.do?bbsId=BBSMSTR_000000000008&nttId=74642]]></link>\n",
      "            <description><![CDATA[\n",
      "                행정안전부(장관 진영)는 11일 정부서울청사 별관 국제회의장에서 ‘2019년 공공 빅데이터 우수사례 경진대회’를 열고 오산시를 비롯한 6개 기관의 우수사례를 시상했습니다. <br /><br />자세한 내용은 첨부를 확인하시기 바랍니다. <br /><br />* 담당 : 공공데이터정책과 윤충식(044-205-2291)\n",
      "                    ]]></description>\n",
      "            <pubDate>THU, 12 DEC 2019 12:00:00 KST</pubDate>\n",
      "            <author>공공데이터정책과</author>\n",
      "        </item>\n",
      "    <item>\n",
      "            <title><![CDATA[“지방의회 운영 가이드북”발간, 지방의회 전문성 높인다]]></title>\n",
      "            <link><![CDATA[https://www.mois.go.kr/frt/bbs/type010/commonSelectBoardArticle.do?bbsId=BBSMSTR_000000000008&nttId=74641]]></link>\n",
      "            <description><![CDATA[\n",
      "                지방의회 구성과 지방의원과 지방의회의 의무, 의정활동, 지방의회 권한과 집행기관과의 관계 및 의안 처리 등 지방의회 운영 전반에 대한 지침서가 나왔습니다. <br /><br />자세한 내용은 첨부를 확인하시기 바랍니다. <br /><br />* 담당 : 선거의회과 노정란(044-205-3380)\n",
      "                    ]]></description>\n",
      "            <pubDate>THU, 12 DEC 2019 08:00:00 KST</pubDate>\n",
      "            <author>선거의회과</author>\n",
      "        </item>\n",
      "    <item>\n",
      "            <title><![CDATA[기관 간 정보공유 활성화로 민원 편의 높인 유공자 표창]]></title>\n",
      "            <link><![CDATA[https://www.mois.go.kr/frt/bbs/type010/commonSelectBoardArticle.do?bbsId=BBSMSTR_000000000008&nttId=74640]]></link>\n",
      "            <description><![CDATA[\n",
      "                행정안전부(장관 진영)는 12일 정부세종청사에서 행정정보 공동이용 활성화 유공자에 대한 장관표창 수여식을 개최하는 한편 시도, 시군구, 지방공사(공단) 업무담당자를 대상으로 ‘행정정보 공동이용 정책설명회’를 진행합니다. <br /><br />자세한 내용은 첨부를 확인하시기 바랍니다. <br /><br />* 담당 : 행정정보공유과 주상현(044-205-2462)\n",
      "                    ]]></description>\n",
      "            <pubDate>THU, 12 DEC 2019 08:00:00 KST</pubDate>\n",
      "            <author>행정정보공유과</author>\n",
      "        </item>\n",
      "    </channel>\n",
      "</rss>\n",
      "\n",
      "\n",
      "<?xml version=\"1.0\" encoding=\"UTF-8\" ?>\n",
      "<rss version=\"2.0\"\n",
      "    xmlns:rdf=\"http://www.w3.org/1999/02/22-rdf-syntax-ns#\"\n",
      "    xmlns:dc=\"http://purl.org/dc/elements/1.1/\"\n",
      "    xmlns:taxo=\"http://purl.org/rss/1.0/modules/taxonomy/\"\n",
      "    xmlns:activity=\"http://activitystrea.ms/spec/1.0/\" >\n",
      "<channel>\n",
      "<title>설명자료</title>\n",
      "<link>https://www.mois.go.kr</link>\n",
      "<description></description>\n",
      "<language>ko</language>\n",
      "<pubDate>TUE, 17 DEC 2019 14:52:10 KST</pubDate>\n",
      "    <item>\n",
      "            <title><![CDATA[(설명) 터지면 대형사고인데… ’상습결빙구간‘ 고속도로는 왜 없나(서울신문)]]></title>\n",
      "            <link><![CDATA[https://www.mois.go.kr/frt/bbs/type001/commonSelectBoardArticle.do?bbsId=BBSMSTR_000000000009&nttId=74734]]></link>\n",
      "            <description><![CDATA[\n",
      "                상습결빙구간 내비게이션 음성안내 구간을 확대하여 겨울철 결빙도로 안전을 강화하겠음<br /><br />자세한 내용은 첨부를 확인하시기 바랍니다. <br /><br />* 담당 : 자연재난대응과 박정곤(044-205-5236)\n",
      "                    ]]></description>\n",
      "            <pubDate>TUE, 17 DEC 2019 14:52:10 KST</pubDate>\n",
      "            <author>자연재난대응과</author>\n",
      "        </item>\n",
      "    </channel>\n",
      "</rss>\n",
      "\n",
      "\n"
     ]
    },
    {
     "name": "stdout",
     "output_type": "stream",
     "text": [
      "<?xml version=\"1.0\" encoding=\"UTF-8\" ?>\n",
      "<rss version=\"2.0\"\n",
      "    xmlns:rdf=\"http://www.w3.org/1999/02/22-rdf-syntax-ns#\"\n",
      "    xmlns:dc=\"http://purl.org/dc/elements/1.1/\"\n",
      "    xmlns:taxo=\"http://purl.org/rss/1.0/modules/taxonomy/\"\n",
      "    xmlns:activity=\"http://activitystrea.ms/spec/1.0/\" >\n",
      "<channel>\n",
      "<title>인사이동</title>\n",
      "<link>https://www.mois.go.kr</link>\n",
      "<description></description>\n",
      "<language>ko</language>\n",
      "<pubDate>TUE, 17 DEC 2019 22:18:50 KST</pubDate>\n",
      "    <item>\n",
      "            <title><![CDATA[인사발령(국장급 전보)]]></title>\n",
      "            <link><![CDATA[https://www.mois.go.kr/frt/bbs/type001/commonSelectBoardArticle.do?bbsId=BBSMSTR_000000000007&nttId=74744]]></link>\n",
      "            <description><![CDATA[\n",
      "                국장급 인사발령입니다.\n",
      "                    ]]></description>\n",
      "            <pubDate>TUE, 17 DEC 2019 22:18:50 KST</pubDate>\n",
      "            <author>인사기획관</author>\n",
      "        </item>\n",
      "    <item>\n",
      "            <title><![CDATA[인사발령(과장급 전보)]]></title>\n",
      "            <link><![CDATA[https://www.mois.go.kr/frt/bbs/type001/commonSelectBoardArticle.do?bbsId=BBSMSTR_000000000007&nttId=74722]]></link>\n",
      "            <description><![CDATA[\n",
      "                과장급 인사발령입니다.\n",
      "                    ]]></description>\n",
      "            <pubDate>TUE, 17 DEC 2019 13:44:39 KST</pubDate>\n",
      "            <author>인사기획관</author>\n",
      "        </item>\n",
      "    </channel>\n",
      "</rss>\n",
      "\n",
      "\n"
     ]
    }
   ],
   "source": [
    "api = 'https://www.mois.go.kr/gpms/view/jsp/rss/rss.jsp'\n",
    "params = []\n",
    "\n",
    "for num in [1001, 1012, 1013, 1014]:\n",
    "    params.append(dict(ctxCd=num)) \n",
    "\n",
    "for c in params:\n",
    "    param = urllib.parse.urlencode(c)\n",
    "    url = api + '?' + param\n",
    "    res_data = urllib.request.urlopen(url).read()\n",
    "    print(res_data.decode('utf-8'))\n",
    "    "
   ]
  },
  {
   "cell_type": "markdown",
   "metadata": {},
   "source": [
    "<hr style=\"height:10px\">"
   ]
  },
  {
   "cell_type": "markdown",
   "metadata": {},
   "source": [
    "# 웹스크렙핑6"
   ]
  },
  {
   "cell_type": "code",
   "execution_count": 17,
   "metadata": {},
   "outputs": [],
   "source": [
    "import urllib.request as req"
   ]
  },
  {
   "cell_type": "markdown",
   "metadata": {},
   "source": [
    "## 인기검색어 가져오기 X"
   ]
  },
  {
   "cell_type": "code",
   "execution_count": 18,
   "metadata": {},
   "outputs": [
    {
     "name": "stdout",
     "output_type": "stream",
     "text": [
      "<!DOCTYPE html>\n",
      "<html lang=\"ko\">\n",
      "<head>\n",
      "<meta http-equiv=\"Content-Type\" content=\"text/html; charset=utf-8\" />\n",
      "<meta http-equiv=\"X-UA-Compatible\" content=\"IE=edge\" />\n",
      "<link rel=\"shortcut icon\" href=\"//finance.daum.net/favicon.ico\" type=\"image/x-icon\" />\n",
      "\n",
      "<title>Daum 금융  </title>\n",
      "\n",
      "<link rel=\"stylesheet\" type=\"text/css\" href=\"/dist/common.css?v=1573783786\" />\n",
      "<link rel=\"stylesheet\" type=\"text/css\" href=\"/dist/custom.ui.css?v=1573783786\" />\n",
      "\n",
      "<script>\n",
      "    window.REQUEST_URI = '/home';\n",
      "    window.CURRENT_URL = encodeURIComponent(\n",
      "        \"\".concat(\n",
      "            window.location.protocol,\n",
      "            \"//\",\n",
      "            window.location.host,\n",
      "            window.location.pathname,\n",
      "            window.location.search\n",
      "        )\n",
      "    );\n",
      "    window.FINANCE = {};\n",
      "    window.FINANCE.BASE_URL = '/dist';\n",
      "    window.FINANCE.VERSION = '1573783786';\n",
      "    window.FINANCE.API_URL = '';\n",
      "    window.FINANCE.HOST = '//finance.daum.net';\n",
      "    window._REALTIME_HOST = 'wss://realtime-front-df.dunamu.com/websocket';\n",
      "    window._WISE_FN_HOST = '//wisefn.finance.daum.net/v1';\n",
      "    window._PERIOD = '';\n",
      "</script>\n",
      "\n",
      "\n",
      "<script type=\"text/javascript\" src=\"/dist/requirejs/require.js?v=1573783786\"></script>\n",
      "\n",
      "<!-- Global site tag (gtag.js) - Google Analytics -->\n",
      "<script async src=\"https://www.googletagmanager.com/gtag/js?id=UA-128578811-1\"></script>\n",
      "<script>\n",
      "  window.dataLayer = window.dataLayer || [];\n",
      "  function gtag(){dataLayer.push(arguments);}\n",
      "  gtag('js', new Date());\n",
      "\n",
      "  gtag('config', 'UA-128578811-1');\n",
      "</script>\n",
      "\n",
      "<!--[if lt IE 9]> <script type=\"text/javascript\" src=\"/dist/html5.js?v=1573783786\"></script> <![endif]-->\n",
      "\n",
      "<link rel=\"stylesheet\" type=\"text/css\" href=\"/dist/layerpopup.css?v=1573783786\" />\n",
      "</head>\n",
      "<body class=\"finance\">\n",
      "    <div id=\"wrap\">\n",
      "        <div class=\"header\">\n",
      "    <div class=\"head_media f_clear\">\n",
      "        <h1><a href=\"//finance.daum.net\" id=\"kakaoServiceLogo\" class=\"#gnb #default #service_finance\"><span class=\"ir_wa\">금융</span></a></h1>\n",
      "        <strong class=\"screen_out\">관련서비스</strong>\n",
      "        <ul class=\"kakaoRelServices\">\n",
      "            <li><a href=\"http://realestate.daum.net\"><span class=\"ir_wa\">부동산</span></a></li>\n",
      "        </ul>\n",
      "        <h2 class=\"screen_out\">검색</h2>\n",
      "        <div class=\"search_news\" id=\"boxSearch\"></div>\n",
      "\n",
      "        \n",
      "<script>\n",
      "    requirejs([\"/dist/daum/app/config.js?v=1573783786\"], function (common) {\n",
      "        require([\"app/common/search\"]);\n",
      "    });\n",
      "</script>\n",
      "    \n",
      "\n",
      "    </div>\n",
      "    <div id=\"kakaoGnb\" role=\"navigation\">\n",
      "        <div class=\"inner_gnb\">\n",
      "            <h2 class=\"screen_out\">금융 메인메뉴</h2>\n",
      "            <ul class=\"gnb_comm\">\n",
      "                <li class=\"on\">\n",
      "                    <a href=\"/\" class=\"link_gnb link_gnb1\">\n",
      "                        <span class=\"screen_out\">선택됨</span>\n",
      "                        <span class=\"ir_wa\">홈</span>\n",
      "                        <span class=\"bar_gnb\"><span class=\"inner_bar\"></span></span>\n",
      "                    </a>\n",
      "                </li>\n",
      "                <li class=\"\">\n",
      "                    <a href=\"/domestic\" class=\"link_gnb link_gnb2\">\n",
      "                        <span class=\"ir_wa\">국내</span>\n",
      "                        <span class=\"bar_gnb\"><span class=\"inner_bar\"></span></span>\n",
      "                    </a>\n",
      "                </li>\n",
      "                <li class=\"\">\n",
      "                    <a href=\"/global\" class=\"link_gnb link_gnb3\">\n",
      "                        <span class=\"ir_wa\">해외</span>\n",
      "                        <span class=\"bar_gnb\"><span class=\"inner_bar\"></span></span>\n",
      "                    </a>\n",
      "                </li>\n",
      "                <li class=\"\">\n",
      "                    <a href=\"/news\" class=\"link_gnb link_gnb4\">\n",
      "                        <span class=\"ir_wa\">뉴스</span>\n",
      "                        <span class=\"bar_gnb\"><span class=\"inner_bar\"></span></span>\n",
      "                    </a>\n",
      "                </li>\n",
      "                <li class=\"\">\n",
      "                    <a href=\"/investment\" class=\"link_gnb link_gnb5\">\n",
      "                        <span class=\"ir_wa\">투자정보</span>\n",
      "                        <span class=\"bar_gnb\"><span class=\"inner_bar\"></span></span>\n",
      "                    </a>\n",
      "                </li>\n",
      "                <li class=\"\">\n",
      "                    <a href=\"/talks\" class=\"link_gnb link_gnb6\">\n",
      "                        <span class=\"ir_wa\">종목토론</span>\n",
      "                        <span class=\"bar_gnb\"><span class=\"inner_bar\"></span></span>\n",
      "                    </a>\n",
      "                </li>\n",
      "                <li class=\"\">\n",
      "                    <a href=\"/my\" class=\"link_gnb link_gnb8\">\n",
      "                        <span class=\"ir_wa\">MY</span>\n",
      "                        <span class=\"bar_gnb\"><span class=\"inner_bar\"></span></span>\n",
      "                    </a>\n",
      "                </li>\n",
      "            </ul>\n",
      "            <div class=\"gnb_etc\">\n",
      "                <ul class=\"gnb_with\">\n",
      "                    <li class=\"\">\n",
      "                        <a href=\"/exchanges\" class=\"link_gnb link_gnb1\">\n",
      "                            <span class=\"ir_wa\">환율</span>\n",
      "                            <span class=\"bar_gnb\"><span class=\"inner_bar\"></span></span>\n",
      "                        </a>\n",
      "                    </li>\n",
      "                    <li>\n",
      "                        <a href=\"http://insurance.dunamu.com\" class=\"link_gnb link_gnb3\">\n",
      "                            <span class=\"ir_wa\">보험</span>\n",
      "                            <span class=\"bar_gnb\"><span class=\"inner_bar\"></span></span>\n",
      "                        </a>\n",
      "                    </li>\n",
      "                </ul>\n",
      "                <div class=\"gnb_banner\" id=\"boxKakaoStockBanner\">\n",
      "                    <a href=\"javascript:void(0)\" class=\"btnKakaoStockBanner\"><span class=\"ir_wa\">쓰던 증권사 그대로, 카카오스탁</span></a>\n",
      "                </div>\n",
      "            </div>\n",
      "        </div>\n",
      "    </div>\n",
      "</div>\n",
      "<div id=\"notice\"></div>\n",
      "\n",
      "<script>\n",
      "    requirejs([\"/dist/daum/app/config.js?v=1573783786\"], function (common) {\n",
      "        require([\"app/common/notice\"]);\n",
      "    });\n",
      "</script>\n",
      "    \n",
      "\n",
      "<script>\n",
      "    requirejs([\"/dist/daum/app/config.js?v=1573783786\"], function (common) {\n",
      "        require([\"app/common/kakaostock\"]);\n",
      "    });\n",
      "</script>\n",
      "    \n",
      "\n",
      "\n",
      "        <div class=\"stockB\" id=\"boxTodayIndexes\">\n",
      "    <div class=\"center\">\n",
      "        <div class=\"stock\" id=\"boxIndexes\"></div>\n",
      "        <div class=\"stockTab\" id=\"boxIndexTabs\">\n",
      "            <span>\n",
      "                <h4>오늘의 증시</h4>\n",
      "                <p id=\"labTodayDate\"></p>\n",
      "                <p id=\"labGlobalTodayDate\">현지시간 기준</p>\n",
      "            </span>\n",
      "            <ul>\n",
      "                <li><a href=\"javascript:void(0)\" data-type=\"DOMESTIC\" class=\"on\" title=\"국내 지수\">국내 지수</a></li>\n",
      "                <li><a href=\"javascript:void(0)\" data-type=\"USA\" title=\"미국 지수\">미국 지수</a></li>\n",
      "                <li><a href=\"javascript:void(0)\" data-type=\"ASIA\" title=\"아시아 지수\">아시아 지수</a></li>\n",
      "                <li><a href=\"javascript:void(0)\" data-type=\"EUROPE\" title=\"유럽 지수\">유럽 지수</a></li>\n",
      "            </ul>\n",
      "        </div>\n",
      "    </div>\n",
      "</div>\n",
      "<div class=\"mainB\">\n",
      "    <div class=\"leftW\">\n",
      "        <div class=\"topNews\" id=\"boxTodayNews\"></div>\n",
      "        <div class=\"rankingB\" id=\"boxBestSearchs\"></div>\n",
      "        <div class=\"rankingB line\" id=\"boxTopSectors\">\n",
      "        </div>\n",
      "    </div>\n",
      "    <div class=\"rightW\" id=\"boxRightSidebar\">\n",
      "        <div class=\"btnB\">\n",
      "            <a href=\"javascript:void(0)\" title=\"전 종목 시세 보기\" id=\"btnAllQuotes\"><i>-</i>전 종목 시세 보기</a>\n",
      "        </div>\n",
      "        <div class=\"myB\" id=\"boxMy\"></div>\n",
      "        <div class=\"sponsor\"></div>\n",
      "    </div>\n",
      "</div>\n",
      "<div class=\"investmentB\">\n",
      "    <div class=\"center\" id=\"boxColumns\">\n",
      "    </div>\n",
      "</div>\n",
      "<div class=\"mainB last\">\n",
      "    <div class=\"leftW max\">\n",
      "        <div class=\"rankingB\" id=\"boxMarketTrend\"></div>\n",
      "    </div>\n",
      "</div>\n",
      "\n",
      "<script>\n",
      "    requirejs([\"/dist/daum/app/config.js?v=1573783786\"], function (common) {\n",
      "        require([\"app/home/index\"]);\n",
      "    });\n",
      "</script>\n",
      "    \n",
      "\n",
      "\n",
      "        <div class=\"footer\">\n",
      "    <span>\n",
      "        <div class=\"fl\">\n",
      "            <ul>\n",
      "                <li><a target='_blank' href=\"http://policy.daum.net/info/info\" title=\"서비스 약관/정책\">서비스 약관/정책</a></li>\n",
      "                <li><a target='_blank' href=\"http://cs.daum.net/faq/19.html\" title=\"금융 고객센터\">금융 고객센터</a></li>\n",
      "                <li><a target='_blank' href=\"https://cs.daum.net/question/19.html\" title=\"금융 문의하기\">금융 문의하기</a></li>\n",
      "                <li><a target='_blank' href=\"http://blog.daum.net/daumfinance/\" title=\"공지사항\">공지사항</a></li>\n",
      "            </ul>\n",
      "            <p>카카오가 제공하는 증권정보는 단순히 정보의 제공을 목적으로 하고 있으며, 사이트에서 제공되는 정보는 오류 및 지연이<br>발생될 수 있습니다. 제공된 정보이용에 따르는 책임은 이용자 본인에게 있으며, 카카오는 이용자의 투자결과에 따른<br>법적 책임을 지지 않습니다.</p>\n",
      "        </div>\n",
      "        <div class=\"fr\">\n",
      "            <p>위 내용에 대한 저작권 및 법적 책임은 자료제공사 또는<br>글쓴이에 있으며 카카오의 입장과 다를 수 있습니다.</p>\n",
      "            <p>Copyright (C) Kakao Corp. All rights reserved.</p>\n",
      "        </div>\n",
      "    </span>\n",
      "</div>\n",
      "\n",
      "\n",
      "        <div id=\"kakaoWrap\">\n",
      "    <div id=\"wrapMinidaum\"></div>\n",
      "</div>\n",
      "\n",
      "<script>\n",
      "    requirejs([\"/dist/daum/app/config.js?v=1573783786\"], function (common) {\n",
      "        require([\"app/common/mini_daum\"]);\n",
      "    });\n",
      "</script>\n",
      "    \n",
      "    </div>\n",
      "</body>\n",
      "</html>\n",
      "\n"
     ]
    }
   ],
   "source": [
    "url =\"https://finance.daum.net/\"\n",
    "\n",
    "res = req.urlopen(req.Request(url)).read().decode('utf-8')\n",
    "print(res)\n",
    "\n",
    "# 인기검색어 x"
   ]
  },
  {
   "cell_type": "markdown",
   "metadata": {},
   "source": [
    "## 인기검색어 가져오기 : Forbidden 우회"
   ]
  },
  {
   "cell_type": "markdown",
   "metadata": {},
   "source": [
    "> fake-useragent 모듈 이용<br>\n",
    "  pip install fake-useragent"
   ]
  },
  {
   "cell_type": "code",
   "execution_count": 19,
   "metadata": {},
   "outputs": [
    {
     "ename": "HTTPError",
     "evalue": "HTTP Error 403: Forbidden",
     "output_type": "error",
     "traceback": [
      "\u001b[1;31m---------------------------------------------------------------------------\u001b[0m",
      "\u001b[1;31mHTTPError\u001b[0m                                 Traceback (most recent call last)",
      "\u001b[1;32m<ipython-input-19-c46c19f939df>\u001b[0m in \u001b[0;36m<module>\u001b[1;34m\u001b[0m\n\u001b[0;32m      1\u001b[0m \u001b[0murl\u001b[0m \u001b[1;33m=\u001b[0m \u001b[1;34m'https://finance.daum.net/api/search/ranks?limit=10'\u001b[0m\u001b[1;33m\u001b[0m\u001b[1;33m\u001b[0m\u001b[0m\n\u001b[1;32m----> 2\u001b[1;33m \u001b[0mres_data\u001b[0m \u001b[1;33m=\u001b[0m \u001b[0murllib\u001b[0m\u001b[1;33m.\u001b[0m\u001b[0mrequest\u001b[0m\u001b[1;33m.\u001b[0m\u001b[0murlopen\u001b[0m\u001b[1;33m(\u001b[0m\u001b[0murl\u001b[0m\u001b[1;33m)\u001b[0m\u001b[1;33m.\u001b[0m\u001b[0mread\u001b[0m\u001b[1;33m(\u001b[0m\u001b[1;33m)\u001b[0m\u001b[1;33m\u001b[0m\u001b[1;33m\u001b[0m\u001b[0m\n\u001b[0m\u001b[0;32m      3\u001b[0m \u001b[0mprint\u001b[0m\u001b[1;33m(\u001b[0m\u001b[0mres_data\u001b[0m\u001b[1;33m.\u001b[0m\u001b[0mdecode\u001b[0m\u001b[1;33m(\u001b[0m\u001b[1;34m'utf-8'\u001b[0m\u001b[1;33m)\u001b[0m\u001b[1;33m)\u001b[0m\u001b[1;33m\u001b[0m\u001b[1;33m\u001b[0m\u001b[0m\n",
      "\u001b[1;32mC:\\ProgramData\\Anaconda3\\lib\\urllib\\request.py\u001b[0m in \u001b[0;36murlopen\u001b[1;34m(url, data, timeout, cafile, capath, cadefault, context)\u001b[0m\n\u001b[0;32m    220\u001b[0m     \u001b[1;32melse\u001b[0m\u001b[1;33m:\u001b[0m\u001b[1;33m\u001b[0m\u001b[1;33m\u001b[0m\u001b[0m\n\u001b[0;32m    221\u001b[0m         \u001b[0mopener\u001b[0m \u001b[1;33m=\u001b[0m \u001b[0m_opener\u001b[0m\u001b[1;33m\u001b[0m\u001b[1;33m\u001b[0m\u001b[0m\n\u001b[1;32m--> 222\u001b[1;33m     \u001b[1;32mreturn\u001b[0m \u001b[0mopener\u001b[0m\u001b[1;33m.\u001b[0m\u001b[0mopen\u001b[0m\u001b[1;33m(\u001b[0m\u001b[0murl\u001b[0m\u001b[1;33m,\u001b[0m \u001b[0mdata\u001b[0m\u001b[1;33m,\u001b[0m \u001b[0mtimeout\u001b[0m\u001b[1;33m)\u001b[0m\u001b[1;33m\u001b[0m\u001b[1;33m\u001b[0m\u001b[0m\n\u001b[0m\u001b[0;32m    223\u001b[0m \u001b[1;33m\u001b[0m\u001b[0m\n\u001b[0;32m    224\u001b[0m \u001b[1;32mdef\u001b[0m \u001b[0minstall_opener\u001b[0m\u001b[1;33m(\u001b[0m\u001b[0mopener\u001b[0m\u001b[1;33m)\u001b[0m\u001b[1;33m:\u001b[0m\u001b[1;33m\u001b[0m\u001b[1;33m\u001b[0m\u001b[0m\n",
      "\u001b[1;32mC:\\ProgramData\\Anaconda3\\lib\\urllib\\request.py\u001b[0m in \u001b[0;36mopen\u001b[1;34m(self, fullurl, data, timeout)\u001b[0m\n\u001b[0;32m    529\u001b[0m         \u001b[1;32mfor\u001b[0m \u001b[0mprocessor\u001b[0m \u001b[1;32min\u001b[0m \u001b[0mself\u001b[0m\u001b[1;33m.\u001b[0m\u001b[0mprocess_response\u001b[0m\u001b[1;33m.\u001b[0m\u001b[0mget\u001b[0m\u001b[1;33m(\u001b[0m\u001b[0mprotocol\u001b[0m\u001b[1;33m,\u001b[0m \u001b[1;33m[\u001b[0m\u001b[1;33m]\u001b[0m\u001b[1;33m)\u001b[0m\u001b[1;33m:\u001b[0m\u001b[1;33m\u001b[0m\u001b[1;33m\u001b[0m\u001b[0m\n\u001b[0;32m    530\u001b[0m             \u001b[0mmeth\u001b[0m \u001b[1;33m=\u001b[0m \u001b[0mgetattr\u001b[0m\u001b[1;33m(\u001b[0m\u001b[0mprocessor\u001b[0m\u001b[1;33m,\u001b[0m \u001b[0mmeth_name\u001b[0m\u001b[1;33m)\u001b[0m\u001b[1;33m\u001b[0m\u001b[1;33m\u001b[0m\u001b[0m\n\u001b[1;32m--> 531\u001b[1;33m             \u001b[0mresponse\u001b[0m \u001b[1;33m=\u001b[0m \u001b[0mmeth\u001b[0m\u001b[1;33m(\u001b[0m\u001b[0mreq\u001b[0m\u001b[1;33m,\u001b[0m \u001b[0mresponse\u001b[0m\u001b[1;33m)\u001b[0m\u001b[1;33m\u001b[0m\u001b[1;33m\u001b[0m\u001b[0m\n\u001b[0m\u001b[0;32m    532\u001b[0m \u001b[1;33m\u001b[0m\u001b[0m\n\u001b[0;32m    533\u001b[0m         \u001b[1;32mreturn\u001b[0m \u001b[0mresponse\u001b[0m\u001b[1;33m\u001b[0m\u001b[1;33m\u001b[0m\u001b[0m\n",
      "\u001b[1;32mC:\\ProgramData\\Anaconda3\\lib\\urllib\\request.py\u001b[0m in \u001b[0;36mhttp_response\u001b[1;34m(self, request, response)\u001b[0m\n\u001b[0;32m    639\u001b[0m         \u001b[1;32mif\u001b[0m \u001b[1;32mnot\u001b[0m \u001b[1;33m(\u001b[0m\u001b[1;36m200\u001b[0m \u001b[1;33m<=\u001b[0m \u001b[0mcode\u001b[0m \u001b[1;33m<\u001b[0m \u001b[1;36m300\u001b[0m\u001b[1;33m)\u001b[0m\u001b[1;33m:\u001b[0m\u001b[1;33m\u001b[0m\u001b[1;33m\u001b[0m\u001b[0m\n\u001b[0;32m    640\u001b[0m             response = self.parent.error(\n\u001b[1;32m--> 641\u001b[1;33m                 'http', request, response, code, msg, hdrs)\n\u001b[0m\u001b[0;32m    642\u001b[0m \u001b[1;33m\u001b[0m\u001b[0m\n\u001b[0;32m    643\u001b[0m         \u001b[1;32mreturn\u001b[0m \u001b[0mresponse\u001b[0m\u001b[1;33m\u001b[0m\u001b[1;33m\u001b[0m\u001b[0m\n",
      "\u001b[1;32mC:\\ProgramData\\Anaconda3\\lib\\urllib\\request.py\u001b[0m in \u001b[0;36merror\u001b[1;34m(self, proto, *args)\u001b[0m\n\u001b[0;32m    567\u001b[0m         \u001b[1;32mif\u001b[0m \u001b[0mhttp_err\u001b[0m\u001b[1;33m:\u001b[0m\u001b[1;33m\u001b[0m\u001b[1;33m\u001b[0m\u001b[0m\n\u001b[0;32m    568\u001b[0m             \u001b[0margs\u001b[0m \u001b[1;33m=\u001b[0m \u001b[1;33m(\u001b[0m\u001b[0mdict\u001b[0m\u001b[1;33m,\u001b[0m \u001b[1;34m'default'\u001b[0m\u001b[1;33m,\u001b[0m \u001b[1;34m'http_error_default'\u001b[0m\u001b[1;33m)\u001b[0m \u001b[1;33m+\u001b[0m \u001b[0morig_args\u001b[0m\u001b[1;33m\u001b[0m\u001b[1;33m\u001b[0m\u001b[0m\n\u001b[1;32m--> 569\u001b[1;33m             \u001b[1;32mreturn\u001b[0m \u001b[0mself\u001b[0m\u001b[1;33m.\u001b[0m\u001b[0m_call_chain\u001b[0m\u001b[1;33m(\u001b[0m\u001b[1;33m*\u001b[0m\u001b[0margs\u001b[0m\u001b[1;33m)\u001b[0m\u001b[1;33m\u001b[0m\u001b[1;33m\u001b[0m\u001b[0m\n\u001b[0m\u001b[0;32m    570\u001b[0m \u001b[1;33m\u001b[0m\u001b[0m\n\u001b[0;32m    571\u001b[0m \u001b[1;31m# XXX probably also want an abstract factory that knows when it makes\u001b[0m\u001b[1;33m\u001b[0m\u001b[1;33m\u001b[0m\u001b[1;33m\u001b[0m\u001b[0m\n",
      "\u001b[1;32mC:\\ProgramData\\Anaconda3\\lib\\urllib\\request.py\u001b[0m in \u001b[0;36m_call_chain\u001b[1;34m(self, chain, kind, meth_name, *args)\u001b[0m\n\u001b[0;32m    501\u001b[0m         \u001b[1;32mfor\u001b[0m \u001b[0mhandler\u001b[0m \u001b[1;32min\u001b[0m \u001b[0mhandlers\u001b[0m\u001b[1;33m:\u001b[0m\u001b[1;33m\u001b[0m\u001b[1;33m\u001b[0m\u001b[0m\n\u001b[0;32m    502\u001b[0m             \u001b[0mfunc\u001b[0m \u001b[1;33m=\u001b[0m \u001b[0mgetattr\u001b[0m\u001b[1;33m(\u001b[0m\u001b[0mhandler\u001b[0m\u001b[1;33m,\u001b[0m \u001b[0mmeth_name\u001b[0m\u001b[1;33m)\u001b[0m\u001b[1;33m\u001b[0m\u001b[1;33m\u001b[0m\u001b[0m\n\u001b[1;32m--> 503\u001b[1;33m             \u001b[0mresult\u001b[0m \u001b[1;33m=\u001b[0m \u001b[0mfunc\u001b[0m\u001b[1;33m(\u001b[0m\u001b[1;33m*\u001b[0m\u001b[0margs\u001b[0m\u001b[1;33m)\u001b[0m\u001b[1;33m\u001b[0m\u001b[1;33m\u001b[0m\u001b[0m\n\u001b[0m\u001b[0;32m    504\u001b[0m             \u001b[1;32mif\u001b[0m \u001b[0mresult\u001b[0m \u001b[1;32mis\u001b[0m \u001b[1;32mnot\u001b[0m \u001b[1;32mNone\u001b[0m\u001b[1;33m:\u001b[0m\u001b[1;33m\u001b[0m\u001b[1;33m\u001b[0m\u001b[0m\n\u001b[0;32m    505\u001b[0m                 \u001b[1;32mreturn\u001b[0m \u001b[0mresult\u001b[0m\u001b[1;33m\u001b[0m\u001b[1;33m\u001b[0m\u001b[0m\n",
      "\u001b[1;32mC:\\ProgramData\\Anaconda3\\lib\\urllib\\request.py\u001b[0m in \u001b[0;36mhttp_error_default\u001b[1;34m(self, req, fp, code, msg, hdrs)\u001b[0m\n\u001b[0;32m    647\u001b[0m \u001b[1;32mclass\u001b[0m \u001b[0mHTTPDefaultErrorHandler\u001b[0m\u001b[1;33m(\u001b[0m\u001b[0mBaseHandler\u001b[0m\u001b[1;33m)\u001b[0m\u001b[1;33m:\u001b[0m\u001b[1;33m\u001b[0m\u001b[1;33m\u001b[0m\u001b[0m\n\u001b[0;32m    648\u001b[0m     \u001b[1;32mdef\u001b[0m \u001b[0mhttp_error_default\u001b[0m\u001b[1;33m(\u001b[0m\u001b[0mself\u001b[0m\u001b[1;33m,\u001b[0m \u001b[0mreq\u001b[0m\u001b[1;33m,\u001b[0m \u001b[0mfp\u001b[0m\u001b[1;33m,\u001b[0m \u001b[0mcode\u001b[0m\u001b[1;33m,\u001b[0m \u001b[0mmsg\u001b[0m\u001b[1;33m,\u001b[0m \u001b[0mhdrs\u001b[0m\u001b[1;33m)\u001b[0m\u001b[1;33m:\u001b[0m\u001b[1;33m\u001b[0m\u001b[1;33m\u001b[0m\u001b[0m\n\u001b[1;32m--> 649\u001b[1;33m         \u001b[1;32mraise\u001b[0m \u001b[0mHTTPError\u001b[0m\u001b[1;33m(\u001b[0m\u001b[0mreq\u001b[0m\u001b[1;33m.\u001b[0m\u001b[0mfull_url\u001b[0m\u001b[1;33m,\u001b[0m \u001b[0mcode\u001b[0m\u001b[1;33m,\u001b[0m \u001b[0mmsg\u001b[0m\u001b[1;33m,\u001b[0m \u001b[0mhdrs\u001b[0m\u001b[1;33m,\u001b[0m \u001b[0mfp\u001b[0m\u001b[1;33m)\u001b[0m\u001b[1;33m\u001b[0m\u001b[1;33m\u001b[0m\u001b[0m\n\u001b[0m\u001b[0;32m    650\u001b[0m \u001b[1;33m\u001b[0m\u001b[0m\n\u001b[0;32m    651\u001b[0m \u001b[1;32mclass\u001b[0m \u001b[0mHTTPRedirectHandler\u001b[0m\u001b[1;33m(\u001b[0m\u001b[0mBaseHandler\u001b[0m\u001b[1;33m)\u001b[0m\u001b[1;33m:\u001b[0m\u001b[1;33m\u001b[0m\u001b[1;33m\u001b[0m\u001b[0m\n",
      "\u001b[1;31mHTTPError\u001b[0m: HTTP Error 403: Forbidden"
     ]
    }
   ],
   "source": [
    "url = 'https://finance.daum.net/api/search/ranks?limit=10'\n",
    "res_data = urllib.request.urlopen(url).read()\n",
    "print(res_data.decode('utf-8'))"
   ]
  },
  {
   "cell_type": "code",
   "execution_count": null,
   "metadata": {},
   "outputs": [],
   "source": [
    "from fake_useragent import UserAgent\n",
    "import json"
   ]
  },
  {
   "cell_type": "code",
   "execution_count": null,
   "metadata": {},
   "outputs": [],
   "source": [
    "ua = UserAgent()\n",
    "headers = {\n",
    "    'User-Agent' : ua.ie,\n",
    "    'referer' : 'https://finance.daum.net/'\n",
    "}\n",
    "\n",
    "url = 'https://finance.daum.net/api/search/ranks?limit=10'\n",
    "res = req.urlopen(req.Request(url, headers=headers)).read().decode('utf-8')\n",
    "rank_json = json.loads(res)['data']\n",
    "\n",
    "for elem in rank_json:\n",
    "    print(elem['rank'], elem['name'], elem['tradePrice'])"
   ]
  },
  {
   "cell_type": "markdown",
   "metadata": {},
   "source": [
    "<hr style=\"height:10px\">"
   ]
  },
  {
   "cell_type": "markdown",
   "metadata": {},
   "source": [
    "# 웹스크렙핑6 : Beautiful Soup\n",
    "> * css나 xpath 쉽게 사용<br>\n",
    "* html 파싱시 사용<br>\n",
    "* 내부적으로 lxml포함"
   ]
  },
  {
   "cell_type": "code",
   "execution_count": null,
   "metadata": {},
   "outputs": [],
   "source": [
    "from bs4 import BeautifulSoup"
   ]
  },
  {
   "cell_type": "code",
   "execution_count": null,
   "metadata": {},
   "outputs": [],
   "source": [
    "html='''\n",
    "<html><head><title>The Dormouse's story</title></head><body><h1>this is h1 area</h1><h2>this is h2 area</h2><p class=\"title\"><b>The Dormouse's story</b></p><p class=\"story\">Once upon a time there were three little sisters<a href=\"http://example.com/elsie\" class=\"sister\" id=\"link1\">Elsie</a><a href=\"http://example.com/lacie\" class=\"sister\" id=\"link2\">Lacie</a><a data-io=\"link3\" href=\"http://example.com/tillie\" class=\"sister\" id=\"link3\">Tillie</a></p><p class=\"story\">story...</p></body></html>\n",
    "'''"
   ]
  },
  {
   "cell_type": "markdown",
   "metadata": {},
   "source": [
    "### BeautifulSoup 객체 초기화"
   ]
  },
  {
   "cell_type": "code",
   "execution_count": null,
   "metadata": {},
   "outputs": [],
   "source": [
    "soup = BeautifulSoup(html,'html.parser') # 뷰티풀숩 객체 초기화\n",
    "print(type(soup))"
   ]
  },
  {
   "cell_type": "markdown",
   "metadata": {},
   "source": [
    "### html파일 예쁘게 정렬후 보여주기"
   ]
  },
  {
   "cell_type": "code",
   "execution_count": null,
   "metadata": {},
   "outputs": [],
   "source": [
    "print(soup.prettify()) # 예쁘게 보여주기"
   ]
  },
  {
   "cell_type": "markdown",
   "metadata": {},
   "source": [
    "### 태그읽기"
   ]
  },
  {
   "cell_type": "code",
   "execution_count": null,
   "metadata": {
    "scrolled": true
   },
   "outputs": [],
   "source": [
    "h1 = soup.html.body.h1\n",
    "print(h1 ,',', h1.string, ' ,',h1.text)"
   ]
  },
  {
   "cell_type": "code",
   "execution_count": null,
   "metadata": {},
   "outputs": [],
   "source": [
    "p1 = soup.html.body.p\n",
    "print(p1)"
   ]
  },
  {
   "cell_type": "markdown",
   "metadata": {},
   "source": [
    "### 형재관계 태그읽기"
   ]
  },
  {
   "cell_type": "code",
   "execution_count": null,
   "metadata": {},
   "outputs": [],
   "source": [
    "p1 = soup.html.body.p\n",
    "print(p1)"
   ]
  },
  {
   "cell_type": "code",
   "execution_count": null,
   "metadata": {},
   "outputs": [],
   "source": [
    "p2 = p1.next_sibling\n",
    "print(p2)"
   ]
  },
  {
   "cell_type": "code",
   "execution_count": null,
   "metadata": {
    "scrolled": true
   },
   "outputs": [],
   "source": [
    "p3 = p2.next_sibling\n",
    "print(p3)"
   ]
  },
  {
   "cell_type": "code",
   "execution_count": null,
   "metadata": {
    "scrolled": true
   },
   "outputs": [],
   "source": [
    "print(list(p2.next_elements), '\\n\\n')\n",
    "for item in p2.next_elements:\n",
    "    print(item)"
   ]
  },
  {
   "cell_type": "markdown",
   "metadata": {},
   "source": [
    "### 특정 태그 검색"
   ]
  },
  {
   "cell_type": "markdown",
   "metadata": {},
   "source": [
    "### find, find_all "
   ]
  },
  {
   "cell_type": "code",
   "execution_count": null,
   "metadata": {
    "scrolled": true
   },
   "outputs": [],
   "source": [
    "soup = BeautifulSoup(html, 'html.parser')\n",
    "links1 =soup.find_all('a')\n",
    "print(links1, '\\n')\n",
    "\n",
    "links2 =soup.find('a')\n",
    "print(links2, '\\n')\n",
    "\n",
    "links3 =soup.find('a', {\"class\":\"sister\", \"data-io\":\"link3\"})\n",
    "print(links3, '\\n')"
   ]
  },
  {
   "cell_type": "markdown",
   "metadata": {},
   "source": [
    "### select_one"
   ]
  },
  {
   "cell_type": "code",
   "execution_count": null,
   "metadata": {
    "scrolled": true
   },
   "outputs": [],
   "source": [
    "# select() select_one()\n",
    "link1 = soup.select_one('p.title > b')\n",
    "\n",
    "link2 = soup.select_one('a#link1')\n",
    "\n",
    "link3 =soup.select_one('a[data-io=\"lihk3\"]')\n",
    "\n",
    "print(link1.text, link2.text, link3.text)"
   ]
  },
  {
   "cell_type": "markdown",
   "metadata": {},
   "source": [
    "### select"
   ]
  },
  {
   "cell_type": "code",
   "execution_count": null,
   "metadata": {},
   "outputs": [],
   "source": [
    "link4 = soup.select('p.story > a')\n",
    "\n",
    "print(link4)"
   ]
  },
  {
   "cell_type": "markdown",
   "metadata": {},
   "source": [
    "<hr style=\"height:10px\">"
   ]
  },
  {
   "cell_type": "markdown",
   "metadata": {},
   "source": [
    "# 웹스크렙핑7 : Get Images"
   ]
  },
  {
   "cell_type": "code",
   "execution_count": null,
   "metadata": {},
   "outputs": [],
   "source": [
    "import urllib.request as req\n",
    "import urllib.parse\n",
    "from bs4 import BeautifulSoup\n",
    "import os"
   ]
  },
  {
   "cell_type": "code",
   "execution_count": null,
   "metadata": {},
   "outputs": [],
   "source": [
    "savePath = 'C:/Users/GD6/imagedown/'\n",
    "try:\n",
    "    if not(os.path.isdir(savePath)):\n",
    "        os.makedirs(os.path.join(savePath))\n",
    "except OSError as e:\n",
    "    print('forder createion failed!')\n",
    "    raise RuntimeError('SystemExit')\n",
    "else:\n",
    "    print('folrder is created!')"
   ]
  },
  {
   "cell_type": "code",
   "execution_count": null,
   "metadata": {},
   "outputs": [],
   "source": [
    "base = 'https://search.naver.com/search.naver?sm=tab_hty.top&where=image&query='\n",
    "quote = urllib.parse.quote_plus('갈치')\n",
    "\n",
    "url = base+quote\n",
    "# print(url)\n",
    "res = req.urlopen(url)\n",
    "\n",
    "soup = BeautifulSoup(res, \"html.parser\")\n",
    "img_list = soup.select(\"div.photo_grid > div.img_area > a.thumb._thumb > img\")"
   ]
  },
  {
   "cell_type": "code",
   "execution_count": null,
   "metadata": {},
   "outputs": [],
   "source": [
    "for i, img_list in enumerate(img_list, 1):\n",
    "    fullFileName = os.path.join(savePath, savePath + str(i)+ '.png')\n",
    "    req.urlretrieve(img_list['data-source'], fullFileName)\n",
    "print('다운로드 성공!')"
   ]
  },
  {
   "cell_type": "markdown",
   "metadata": {},
   "source": [
    "<hr style=\"height:10px\">"
   ]
  }
 ],
 "metadata": {
  "kernelspec": {
   "display_name": "Python 3",
   "language": "python",
   "name": "python3"
  },
  "language_info": {
   "codemirror_mode": {
    "name": "ipython",
    "version": 3
   },
   "file_extension": ".py",
   "mimetype": "text/x-python",
   "name": "python",
   "nbconvert_exporter": "python",
   "pygments_lexer": "ipython3",
   "version": "3.7.4"
  }
 },
 "nbformat": 4,
 "nbformat_minor": 2
}
